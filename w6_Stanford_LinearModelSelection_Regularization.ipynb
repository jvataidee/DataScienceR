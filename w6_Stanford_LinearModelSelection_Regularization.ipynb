{
  "nbformat": 4,
  "nbformat_minor": 0,
  "metadata": {
    "colab": {
      "name": "w6_Stanford_LinearModelSelection_Regularization.ipynb",
      "provenance": [],
      "collapsed_sections": [],
      "include_colab_link": true
    },
    "kernelspec": {
      "name": "ir",
      "display_name": "R"
    }
  },
  "cells": [
    {
      "cell_type": "markdown",
      "metadata": {
        "id": "view-in-github",
        "colab_type": "text"
      },
      "source": [
        "<a href=\"https://colab.research.google.com/github/jvataidee/DataScienceR/blob/master/w6_Stanford_LinearModelSelection_Regularization.ipynb\" target=\"_parent\"><img src=\"https://colab.research.google.com/assets/colab-badge.svg\" alt=\"Open In Colab\"/></a>"
      ]
    },
    {
      "cell_type": "markdown",
      "source": [
        "<img src=\"https://logodownload.org/wp-content/uploads/2021/04/stanford-university-logo.png\" width=\"200\"/>\n",
        "\n",
        "**by: [João Ataíde](https://www.joaoataide.com/)**\n",
        "___"
      ],
      "metadata": {
        "id": "njJmx02aWXM-"
      }
    },
    {
      "cell_type": "markdown",
      "source": [
        "# **RESAMPLING**"
      ],
      "metadata": {
        "id": "pipki8PAWXVo"
      }
    },
    {
      "cell_type": "code",
      "metadata": {
        "id": "Z60PpIfIeF4Z",
        "colab": {
          "base_uri": "https://localhost:8080/"
        },
        "outputId": "80eb074d-6f42-4948-af2f-a7dedbf6f6ba"
      },
      "source": [
        "install.packages(\"ISLR2\",lib='/usr/lib/R/library')\n",
        "install.packages(\"MASS\",lib='/usr/lib/R/library')\n",
        "install.packages(\"e1071\",lib='/usr/lib/R/library')\n",
        "install.packages(\"class\",lib='/usr/lib/R/library')"
      ],
      "execution_count": 1,
      "outputs": [
        {
          "output_type": "stream",
          "name": "stderr",
          "text": [
            "Updating HTML index of packages in '.Library'\n",
            "\n",
            "Making 'packages.html' ...\n",
            " done\n",
            "\n",
            "Updating HTML index of packages in '.Library'\n",
            "\n",
            "Making 'packages.html' ...\n",
            " done\n",
            "\n",
            "also installing the dependency ‘proxy’\n",
            "\n",
            "\n",
            "Updating HTML index of packages in '.Library'\n",
            "\n",
            "Making 'packages.html' ...\n",
            " done\n",
            "\n",
            "Updating HTML index of packages in '.Library'\n",
            "\n",
            "Making 'packages.html' ...\n",
            " done\n",
            "\n"
          ]
        }
      ]
    },
    {
      "cell_type": "code",
      "source": [
        "library(ISLR2)\n",
        "library(boot)\n",
        "library(MASS)"
      ],
      "metadata": {
        "colab": {
          "base_uri": "https://localhost:8080/"
        },
        "id": "A3wtl_c_ZWc5",
        "outputId": "1a2e65e5-6b23-42e6-eaf1-3377dc55fe04"
      },
      "execution_count": null,
      "outputs": [
        {
          "output_type": "stream",
          "name": "stderr",
          "text": [
            "\n",
            "Attaching package: ‘MASS’\n",
            "\n",
            "\n",
            "The following object is masked from ‘package:ISLR2’:\n",
            "\n",
            "    Boston\n",
            "\n",
            "\n"
          ]
        }
      ]
    }
  ]
}