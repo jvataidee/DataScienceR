{
 "cells": [
  {
   "cell_type": "markdown",
   "metadata": {
    "id": "3VQDRB_-iJhz"
   },
   "source": [
    "<img src=\"https://logodownload.org/wp-content/uploads/2021/04/stanford-university-logo.png\" width=\"200\"/>\n",
    "\n",
    "**by: [João Ataíde](https://www.joaoataide.com/)**\n",
    "___"
   ]
  },
  {
   "cell_type": "markdown",
   "metadata": {
    "id": "TZRzVUDG5BCU"
   },
   "source": [
    "# **INTRODUCTION TO R**\n"
   ]
  },
  {
   "cell_type": "markdown",
   "metadata": {
    "id": "sfvQDwPaGHzK"
   },
   "source": [
    "## Vectors, data, Matrices, subsetting"
   ]
  },
  {
   "cell_type": "code",
   "execution_count": 1,
   "metadata": {
    "colab": {
     "base_uri": "https://localhost:8080/",
     "height": 34
    },
    "id": "QFLRBqVWZzkB",
    "outputId": "60c46e58-73ba-41ac-fb0c-debfe06dddee"
   },
   "outputs": [
    {
     "ename": "NameError",
     "evalue": "name 'c' is not defined",
     "output_type": "error",
     "traceback": [
      "\u001b[1;31m---------------------------------------------------------------------------\u001b[0m",
      "\u001b[1;31mNameError\u001b[0m                                 Traceback (most recent call last)",
      "Input \u001b[1;32mIn [1]\u001b[0m, in \u001b[0;36m<module>\u001b[1;34m\u001b[0m\n\u001b[0;32m      1\u001b[0m \u001b[38;5;66;03m#creating a vector\u001b[39;00m\n\u001b[1;32m----> 2\u001b[0m x \u001b[38;5;241m=\u001b[39m  \u001b[43mc\u001b[49m(\u001b[38;5;241m2\u001b[39m, \u001b[38;5;241m7\u001b[39m, \u001b[38;5;241m5\u001b[39m)\n\u001b[0;32m      3\u001b[0m x\n",
      "\u001b[1;31mNameError\u001b[0m: name 'c' is not defined"
     ]
    }
   ],
   "source": [
    "#creating a vector\n",
    "x =  c(2, 7, 5)\n",
    "x"
   ]
  },
  {
   "cell_type": "code",
   "execution_count": 46,
   "metadata": {
    "colab": {
     "base_uri": "https://localhost:8080/",
     "height": 34
    },
    "id": "PnLHsVfgFkBl",
    "outputId": "1a8f2484-ba37-4e59-a8a7-48da4a19f2de"
   },
   "outputs": [
    {
     "data": {
      "text/html": [
       "<style>\n",
       ".list-inline {list-style: none; margin:0; padding: 0}\n",
       ".list-inline>li {display: inline-block}\n",
       ".list-inline>li:not(:last-child)::after {content: \"\\00b7\"; padding: 0 .5ex}\n",
       "</style>\n",
       "<ol class=list-inline><li>4</li><li>7</li><li>10</li></ol>\n"
      ],
      "text/latex": [
       "\\begin{enumerate*}\n",
       "\\item 4\n",
       "\\item 7\n",
       "\\item 10\n",
       "\\end{enumerate*}\n"
      ],
      "text/markdown": [
       "1. 4\n",
       "2. 7\n",
       "3. 10\n",
       "\n",
       "\n"
      ],
      "text/plain": [
       "[1]  4  7 10"
      ]
     },
     "metadata": {},
     "output_type": "display_data"
    }
   ],
   "source": [
    "#Creating a vector for other way\n",
    "#Creati vector for sequential\n",
    "y = seq(from = 4, length =3, by =3)\n",
    "y"
   ]
  },
  {
   "cell_type": "code",
   "execution_count": 12,
   "metadata": {
    "colab": {
     "base_uri": "https://localhost:8080/",
     "height": 34
    },
    "id": "5k5u1rwYFu3B",
    "outputId": "721eb0fc-757c-4c0b-f0e0-4e07b67ee9c1"
   },
   "outputs": [
    {
     "data": {
      "text/html": [
       "<style>\n",
       ".list-inline {list-style: none; margin:0; padding: 0}\n",
       ".list-inline>li {display: inline-block}\n",
       ".list-inline>li:not(:last-child)::after {content: \"\\00b7\"; padding: 0 .5ex}\n",
       "</style>\n",
       "<ol class=list-inline><li>8</li><li>49</li><li>50</li></ol>\n"
      ],
      "text/latex": [
       "\\begin{enumerate*}\n",
       "\\item 8\n",
       "\\item 49\n",
       "\\item 50\n",
       "\\end{enumerate*}\n"
      ],
      "text/markdown": [
       "1. 8\n",
       "2. 49\n",
       "3. 50\n",
       "\n",
       "\n"
      ],
      "text/plain": [
       "[1]  8 49 50"
      ]
     },
     "metadata": {},
     "output_type": "display_data"
    }
   ],
   "source": [
    "#Multiplication\n",
    "x * y"
   ]
  },
  {
   "cell_type": "code",
   "execution_count": 13,
   "metadata": {
    "colab": {
     "base_uri": "https://localhost:8080/",
     "height": 34
    },
    "id": "Fg93bnRTGA-s",
    "outputId": "5e800a43-38b5-4868-d3bd-81e3720f8d7d"
   },
   "outputs": [
    {
     "data": {
      "text/html": [
       "<style>\n",
       ".list-inline {list-style: none; margin:0; padding: 0}\n",
       ".list-inline>li {display: inline-block}\n",
       ".list-inline>li:not(:last-child)::after {content: \"\\00b7\"; padding: 0 .5ex}\n",
       "</style>\n",
       "<ol class=list-inline><li>0.5</li><li>1</li><li>0.5</li></ol>\n"
      ],
      "text/latex": [
       "\\begin{enumerate*}\n",
       "\\item 0.5\n",
       "\\item 1\n",
       "\\item 0.5\n",
       "\\end{enumerate*}\n"
      ],
      "text/markdown": [
       "1. 0.5\n",
       "2. 1\n",
       "3. 0.5\n",
       "\n",
       "\n"
      ],
      "text/plain": [
       "[1] 0.5 1.0 0.5"
      ]
     },
     "metadata": {},
     "output_type": "display_data"
    }
   ],
   "source": [
    "#Division\n",
    "x / y"
   ]
  },
  {
   "cell_type": "code",
   "execution_count": 14,
   "metadata": {
    "colab": {
     "base_uri": "https://localhost:8080/",
     "height": 34
    },
    "id": "2u-Hg-kUGC40",
    "outputId": "00ac12e7-97f7-43c7-d4bf-65411679b1da"
   },
   "outputs": [
    {
     "data": {
      "text/html": [
       "<style>\n",
       ".list-inline {list-style: none; margin:0; padding: 0}\n",
       ".list-inline>li {display: inline-block}\n",
       ".list-inline>li:not(:last-child)::after {content: \"\\00b7\"; padding: 0 .5ex}\n",
       "</style>\n",
       "<ol class=list-inline><li>16</li><li>823543</li><li>9765625</li></ol>\n"
      ],
      "text/latex": [
       "\\begin{enumerate*}\n",
       "\\item 16\n",
       "\\item 823543\n",
       "\\item 9765625\n",
       "\\end{enumerate*}\n"
      ],
      "text/markdown": [
       "1. 16\n",
       "2. 823543\n",
       "3. 9765625\n",
       "\n",
       "\n"
      ],
      "text/plain": [
       "[1]      16  823543 9765625"
      ]
     },
     "metadata": {},
     "output_type": "display_data"
    }
   ],
   "source": [
    "#Exponentiation\n",
    "x ^ y"
   ]
  },
  {
   "cell_type": "code",
   "execution_count": 17,
   "metadata": {
    "colab": {
     "base_uri": "https://localhost:8080/",
     "height": 34
    },
    "id": "wZ7GZM9VGFdF",
    "outputId": "e6a97817-94ef-4fe3-d1f9-e21087349730"
   },
   "outputs": [
    {
     "data": {
      "text/html": [
       "7"
      ],
      "text/latex": [
       "7"
      ],
      "text/markdown": [
       "7"
      ],
      "text/plain": [
       "[1] 7"
      ]
     },
     "metadata": {},
     "output_type": "display_data"
    }
   ],
   "source": [
    "#Second elemento of X\n",
    "x[2]"
   ]
  },
  {
   "cell_type": "code",
   "execution_count": 19,
   "metadata": {
    "colab": {
     "base_uri": "https://localhost:8080/",
     "height": 34
    },
    "id": "RMEAAqqfGwAF",
    "outputId": "4719cd02-6316-44bd-f868-31381d336522"
   },
   "outputs": [
    {
     "data": {
      "text/html": [
       "<style>\n",
       ".list-inline {list-style: none; margin:0; padding: 0}\n",
       ".list-inline>li {display: inline-block}\n",
       ".list-inline>li:not(:last-child)::after {content: \"\\00b7\"; padding: 0 .5ex}\n",
       "</style>\n",
       "<ol class=list-inline><li>7</li><li>5</li></ol>\n"
      ],
      "text/latex": [
       "\\begin{enumerate*}\n",
       "\\item 7\n",
       "\\item 5\n",
       "\\end{enumerate*}\n"
      ],
      "text/markdown": [
       "1. 7\n",
       "2. 5\n",
       "\n",
       "\n"
      ],
      "text/plain": [
       "[1] 7 5"
      ]
     },
     "metadata": {},
     "output_type": "display_data"
    }
   ],
   "source": [
    "# Second and Thurty element of x\n",
    "x[2:3]"
   ]
  },
  {
   "cell_type": "code",
   "execution_count": 20,
   "metadata": {
    "colab": {
     "base_uri": "https://localhost:8080/",
     "height": 34
    },
    "id": "lzyKNrggG_49",
    "outputId": "5293f771-64b4-47fb-f9b0-e1196264754e"
   },
   "outputs": [
    {
     "data": {
      "text/html": [
       "<style>\n",
       ".list-inline {list-style: none; margin:0; padding: 0}\n",
       ".list-inline>li {display: inline-block}\n",
       ".list-inline>li:not(:last-child)::after {content: \"\\00b7\"; padding: 0 .5ex}\n",
       "</style>\n",
       "<ol class=list-inline><li>2</li><li>5</li></ol>\n"
      ],
      "text/latex": [
       "\\begin{enumerate*}\n",
       "\\item 2\n",
       "\\item 5\n",
       "\\end{enumerate*}\n"
      ],
      "text/markdown": [
       "1. 2\n",
       "2. 5\n",
       "\n",
       "\n"
      ],
      "text/plain": [
       "[1] 2 5"
      ]
     },
     "metadata": {},
     "output_type": "display_data"
    }
   ],
   "source": [
    "# Remove the element two\n",
    "x[-2]"
   ]
  },
  {
   "cell_type": "code",
   "execution_count": 23,
   "metadata": {
    "colab": {
     "base_uri": "https://localhost:8080/",
     "height": 34
    },
    "id": "T9j1Eep-HHJ2",
    "outputId": "a85d46c4-bee0-46aa-dd78-d8d195837c30"
   },
   "outputs": [
    {
     "data": {
      "text/html": [
       "5"
      ],
      "text/latex": [
       "5"
      ],
      "text/markdown": [
       "5"
      ],
      "text/plain": [
       "[1] 5"
      ]
     },
     "metadata": {},
     "output_type": "display_data"
    }
   ],
   "source": [
    "# Remove the elementos for onde list the indexs\n",
    "x[-c(1,2)]"
   ]
  },
  {
   "cell_type": "code",
   "execution_count": 32,
   "metadata": {
    "colab": {
     "base_uri": "https://localhost:8080/",
     "height": 194
    },
    "id": "_XWnweATHRtX",
    "outputId": "81d71772-94e3-40bd-d69b-76b0fe39b3df"
   },
   "outputs": [
    {
     "data": {
      "text/html": [
       "<table class=\"dataframe\">\n",
       "<caption>A matrix: 4 × 3 of type int</caption>\n",
       "<tbody>\n",
       "\t<tr><td>1</td><td>5</td><td> 9</td></tr>\n",
       "\t<tr><td>2</td><td>6</td><td>10</td></tr>\n",
       "\t<tr><td>3</td><td>7</td><td>11</td></tr>\n",
       "\t<tr><td>4</td><td>8</td><td>12</td></tr>\n",
       "</tbody>\n",
       "</table>\n"
      ],
      "text/latex": [
       "A matrix: 4 × 3 of type int\n",
       "\\begin{tabular}{lll}\n",
       "\t 1 & 5 &  9\\\\\n",
       "\t 2 & 6 & 10\\\\\n",
       "\t 3 & 7 & 11\\\\\n",
       "\t 4 & 8 & 12\\\\\n",
       "\\end{tabular}\n"
      ],
      "text/markdown": [
       "\n",
       "A matrix: 4 × 3 of type int\n",
       "\n",
       "| 1 | 5 |  9 |\n",
       "| 2 | 6 | 10 |\n",
       "| 3 | 7 | 11 |\n",
       "| 4 | 8 | 12 |\n",
       "\n"
      ],
      "text/plain": [
       "     [,1] [,2] [,3]\n",
       "[1,] 1    5     9  \n",
       "[2,] 2    6    10  \n",
       "[3,] 3    7    11  \n",
       "[4,] 4    8    12  "
      ]
     },
     "metadata": {},
     "output_type": "display_data"
    }
   ],
   "source": [
    "# Creating a matrix\n",
    "# matrix( seq( num_initial, num_final), num_lines, num_columns)\n",
    "z = matrix(seq(1, 12), 4, 3)\n",
    "z"
   ]
  },
  {
   "cell_type": "code",
   "execution_count": 33,
   "metadata": {
    "colab": {
     "base_uri": "https://localhost:8080/",
     "height": 149
    },
    "id": "OMxjU6ePHk9t",
    "outputId": "7f16be87-2f27-470f-d0f9-2e2218c80017"
   },
   "outputs": [
    {
     "data": {
      "text/html": [
       "<table class=\"dataframe\">\n",
       "<caption>A matrix: 2 × 2 of type int</caption>\n",
       "<tbody>\n",
       "\t<tr><td>7</td><td>11</td></tr>\n",
       "\t<tr><td>8</td><td>12</td></tr>\n",
       "</tbody>\n",
       "</table>\n"
      ],
      "text/latex": [
       "A matrix: 2 × 2 of type int\n",
       "\\begin{tabular}{ll}\n",
       "\t 7 & 11\\\\\n",
       "\t 8 & 12\\\\\n",
       "\\end{tabular}\n"
      ],
      "text/markdown": [
       "\n",
       "A matrix: 2 × 2 of type int\n",
       "\n",
       "| 7 | 11 |\n",
       "| 8 | 12 |\n",
       "\n"
      ],
      "text/plain": [
       "     [,1] [,2]\n",
       "[1,] 7    11  \n",
       "[2,] 8    12  "
      ]
     },
     "metadata": {},
     "output_type": "display_data"
    }
   ],
   "source": [
    "#Take the elements of the matrix\n",
    "# z[ lines, columns]\n",
    "z[3:4, 2:3]"
   ]
  },
  {
   "cell_type": "code",
   "execution_count": 37,
   "metadata": {
    "colab": {
     "base_uri": "https://localhost:8080/",
     "height": 229
    },
    "id": "j2eAADnFH3Fm",
    "outputId": "cad5314c-cb2a-4b2e-89de-66e509b04dce"
   },
   "outputs": [
    {
     "data": {
      "text/html": [
       "<table class=\"dataframe\">\n",
       "<caption>A matrix: 4 × 1 of type int</caption>\n",
       "<tbody>\n",
       "\t<tr><td>1</td></tr>\n",
       "\t<tr><td>2</td></tr>\n",
       "\t<tr><td>3</td></tr>\n",
       "\t<tr><td>4</td></tr>\n",
       "</tbody>\n",
       "</table>\n"
      ],
      "text/latex": [
       "A matrix: 4 × 1 of type int\n",
       "\\begin{tabular}{l}\n",
       "\t 1\\\\\n",
       "\t 2\\\\\n",
       "\t 3\\\\\n",
       "\t 4\\\\\n",
       "\\end{tabular}\n"
      ],
      "text/markdown": [
       "\n",
       "A matrix: 4 × 1 of type int\n",
       "\n",
       "| 1 |\n",
       "| 2 |\n",
       "| 3 |\n",
       "| 4 |\n",
       "\n"
      ],
      "text/plain": [
       "     [,1]\n",
       "[1,] 1   \n",
       "[2,] 2   \n",
       "[3,] 3   \n",
       "[4,] 4   "
      ]
     },
     "metadata": {},
     "output_type": "display_data"
    }
   ],
   "source": [
    "#Delet and cotinue vectored\n",
    "z[, 1, drop=FALSE]"
   ]
  },
  {
   "cell_type": "code",
   "execution_count": 39,
   "metadata": {
    "colab": {
     "base_uri": "https://localhost:8080/",
     "height": 34
    },
    "id": "pz9wBlaDIT-v",
    "outputId": "5f3d8b4b-e1f4-46a5-8e2c-e3a6db3e7d28"
   },
   "outputs": [
    {
     "data": {
      "text/html": [
       "<style>\n",
       ".list-inline {list-style: none; margin:0; padding: 0}\n",
       ".list-inline>li {display: inline-block}\n",
       ".list-inline>li:not(:last-child)::after {content: \"\\00b7\"; padding: 0 .5ex}\n",
       "</style>\n",
       "<ol class=list-inline><li>4</li><li>3</li></ol>\n"
      ],
      "text/latex": [
       "\\begin{enumerate*}\n",
       "\\item 4\n",
       "\\item 3\n",
       "\\end{enumerate*}\n"
      ],
      "text/markdown": [
       "1. 4\n",
       "2. 3\n",
       "\n",
       "\n"
      ],
      "text/plain": [
       "[1] 4 3"
      ]
     },
     "metadata": {},
     "output_type": "display_data"
    }
   ],
   "source": [
    "#Dimensions of matrix \n",
    "# Lines . Columns\n",
    "dim(z)"
   ]
  },
  {
   "cell_type": "code",
   "execution_count": 45,
   "metadata": {
    "colab": {
     "base_uri": "https://localhost:8080/",
     "height": 34
    },
    "id": "YrSOOLHaIoiE",
    "outputId": "38bfabca-495f-471b-8788-6f272af4a85f"
   },
   "outputs": [
    {
     "data": {
      "text/html": [
       "<style>\n",
       ".list-inline {list-style: none; margin:0; padding: 0}\n",
       ".list-inline>li {display: inline-block}\n",
       ".list-inline>li:not(:last-child)::after {content: \"\\00b7\"; padding: 0 .5ex}\n",
       "</style>\n",
       "<ol class=list-inline><li>'x'</li><li>'z'</li></ol>\n"
      ],
      "text/latex": [
       "\\begin{enumerate*}\n",
       "\\item 'x'\n",
       "\\item 'z'\n",
       "\\end{enumerate*}\n"
      ],
      "text/markdown": [
       "1. 'x'\n",
       "2. 'z'\n",
       "\n",
       "\n"
      ],
      "text/plain": [
       "[1] \"x\" \"z\""
      ]
     },
     "metadata": {},
     "output_type": "display_data"
    }
   ],
   "source": [
    "#list vectores\n",
    "ls()"
   ]
  },
  {
   "cell_type": "code",
   "execution_count": 47,
   "metadata": {
    "id": "8npNisgyIte8"
   },
   "outputs": [],
   "source": [
    "#Remove data from the memory\n",
    "rm(y)"
   ]
  },
  {
   "cell_type": "code",
   "execution_count": 48,
   "metadata": {
    "colab": {
     "base_uri": "https://localhost:8080/",
     "height": 34
    },
    "id": "lD37xlGiI6Ca",
    "outputId": "809a4b7f-a2e0-48ea-8f49-51a45b0e43f1"
   },
   "outputs": [
    {
     "data": {
      "text/html": [
       "<style>\n",
       ".list-inline {list-style: none; margin:0; padding: 0}\n",
       ".list-inline>li {display: inline-block}\n",
       ".list-inline>li:not(:last-child)::after {content: \"\\00b7\"; padding: 0 .5ex}\n",
       "</style>\n",
       "<ol class=list-inline><li>'x'</li><li>'z'</li></ol>\n"
      ],
      "text/latex": [
       "\\begin{enumerate*}\n",
       "\\item 'x'\n",
       "\\item 'z'\n",
       "\\end{enumerate*}\n"
      ],
      "text/markdown": [
       "1. 'x'\n",
       "2. 'z'\n",
       "\n",
       "\n"
      ],
      "text/plain": [
       "[1] \"x\" \"z\""
      ]
     },
     "metadata": {},
     "output_type": "display_data"
    }
   ],
   "source": [
    "# Liste vectores\n",
    "ls()"
   ]
  },
  {
   "cell_type": "markdown",
   "metadata": {
    "id": "0fBAJt9rJD6E"
   },
   "source": [
    "## Generate random data, graphics"
   ]
  },
  {
   "cell_type": "code",
   "execution_count": 49,
   "metadata": {
    "colab": {
     "base_uri": "https://localhost:8080/",
     "height": 104
    },
    "id": "TqvZw1CeJH0H",
    "outputId": "46639eb8-e8ab-4ae3-99dd-a6593bd3e0ab"
   },
   "outputs": [
    {
     "data": {
      "text/html": [
       "<style>\n",
       ".list-inline {list-style: none; margin:0; padding: 0}\n",
       ".list-inline>li {display: inline-block}\n",
       ".list-inline>li:not(:last-child)::after {content: \"\\00b7\"; padding: 0 .5ex}\n",
       "</style>\n",
       "<ol class=list-inline><li>0.236026872415096</li><li>0.767337424913421</li><li>0.318594751413912</li><li>0.571700592990965</li><li>0.428110078908503</li><li>0.392809957964346</li><li>0.365192955825478</li><li>0.172157259192318</li><li>0.355544737540185</li><li>0.211011549923569</li><li>0.657779178582132</li><li>0.91223484906368</li><li>0.524211573181674</li><li>0.621371763758361</li><li>0.255257005570456</li><li>0.336007490055636</li><li>0.556320967851207</li><li>0.374810351524502</li><li>0.2813553835731</li><li>0.548368463758379</li><li>0.093635841505602</li><li>0.883268070872873</li><li>0.487876672530547</li><li>0.453592251054943</li><li>0.968800012255087</li><li>0.477932529523969</li><li>0.944226755062118</li><li>0.0905355727300048</li><li>0.90514971059747</li><li>0.497130822157487</li><li>0.518078599357978</li><li>0.147348776459694</li><li>0.980944216018543</li><li>0.202889853622764</li><li>0.437002578750253</li><li>0.83621410257183</li><li>0.483685115585104</li><li>0.943734253523871</li><li>0.46156058087945</li><li>0.852144567063078</li><li>0.368121945532039</li><li>0.97034091828391</li><li>0.772958045359701</li><li>0.0895109721459448</li><li>0.0184544378425926</li><li>0.757744315080345</li><li>0.701764107681811</li><li>0.197505130898207</li><li>0.0028702849522233</li><li>0.381880177650601</li></ol>\n"
      ],
      "text/latex": [
       "\\begin{enumerate*}\n",
       "\\item 0.236026872415096\n",
       "\\item 0.767337424913421\n",
       "\\item 0.318594751413912\n",
       "\\item 0.571700592990965\n",
       "\\item 0.428110078908503\n",
       "\\item 0.392809957964346\n",
       "\\item 0.365192955825478\n",
       "\\item 0.172157259192318\n",
       "\\item 0.355544737540185\n",
       "\\item 0.211011549923569\n",
       "\\item 0.657779178582132\n",
       "\\item 0.91223484906368\n",
       "\\item 0.524211573181674\n",
       "\\item 0.621371763758361\n",
       "\\item 0.255257005570456\n",
       "\\item 0.336007490055636\n",
       "\\item 0.556320967851207\n",
       "\\item 0.374810351524502\n",
       "\\item 0.2813553835731\n",
       "\\item 0.548368463758379\n",
       "\\item 0.093635841505602\n",
       "\\item 0.883268070872873\n",
       "\\item 0.487876672530547\n",
       "\\item 0.453592251054943\n",
       "\\item 0.968800012255087\n",
       "\\item 0.477932529523969\n",
       "\\item 0.944226755062118\n",
       "\\item 0.0905355727300048\n",
       "\\item 0.90514971059747\n",
       "\\item 0.497130822157487\n",
       "\\item 0.518078599357978\n",
       "\\item 0.147348776459694\n",
       "\\item 0.980944216018543\n",
       "\\item 0.202889853622764\n",
       "\\item 0.437002578750253\n",
       "\\item 0.83621410257183\n",
       "\\item 0.483685115585104\n",
       "\\item 0.943734253523871\n",
       "\\item 0.46156058087945\n",
       "\\item 0.852144567063078\n",
       "\\item 0.368121945532039\n",
       "\\item 0.97034091828391\n",
       "\\item 0.772958045359701\n",
       "\\item 0.0895109721459448\n",
       "\\item 0.0184544378425926\n",
       "\\item 0.757744315080345\n",
       "\\item 0.701764107681811\n",
       "\\item 0.197505130898207\n",
       "\\item 0.0028702849522233\n",
       "\\item 0.381880177650601\n",
       "\\end{enumerate*}\n"
      ],
      "text/markdown": [
       "1. 0.236026872415096\n",
       "2. 0.767337424913421\n",
       "3. 0.318594751413912\n",
       "4. 0.571700592990965\n",
       "5. 0.428110078908503\n",
       "6. 0.392809957964346\n",
       "7. 0.365192955825478\n",
       "8. 0.172157259192318\n",
       "9. 0.355544737540185\n",
       "10. 0.211011549923569\n",
       "11. 0.657779178582132\n",
       "12. 0.91223484906368\n",
       "13. 0.524211573181674\n",
       "14. 0.621371763758361\n",
       "15. 0.255257005570456\n",
       "16. 0.336007490055636\n",
       "17. 0.556320967851207\n",
       "18. 0.374810351524502\n",
       "19. 0.2813553835731\n",
       "20. 0.548368463758379\n",
       "21. 0.093635841505602\n",
       "22. 0.883268070872873\n",
       "23. 0.487876672530547\n",
       "24. 0.453592251054943\n",
       "25. 0.968800012255087\n",
       "26. 0.477932529523969\n",
       "27. 0.944226755062118\n",
       "28. 0.0905355727300048\n",
       "29. 0.90514971059747\n",
       "30. 0.497130822157487\n",
       "31. 0.518078599357978\n",
       "32. 0.147348776459694\n",
       "33. 0.980944216018543\n",
       "34. 0.202889853622764\n",
       "35. 0.437002578750253\n",
       "36. 0.83621410257183\n",
       "37. 0.483685115585104\n",
       "38. 0.943734253523871\n",
       "39. 0.46156058087945\n",
       "40. 0.852144567063078\n",
       "41. 0.368121945532039\n",
       "42. 0.97034091828391\n",
       "43. 0.772958045359701\n",
       "44. 0.0895109721459448\n",
       "45. 0.0184544378425926\n",
       "46. 0.757744315080345\n",
       "47. 0.701764107681811\n",
       "48. 0.197505130898207\n",
       "49. 0.0028702849522233\n",
       "50. 0.381880177650601\n",
       "\n",
       "\n"
      ],
      "text/plain": [
       " [1] 0.236026872 0.767337425 0.318594751 0.571700593 0.428110079 0.392809958\n",
       " [7] 0.365192956 0.172157259 0.355544738 0.211011550 0.657779179 0.912234849\n",
       "[13] 0.524211573 0.621371764 0.255257006 0.336007490 0.556320968 0.374810352\n",
       "[19] 0.281355384 0.548368464 0.093635842 0.883268071 0.487876673 0.453592251\n",
       "[25] 0.968800012 0.477932530 0.944226755 0.090535573 0.905149711 0.497130822\n",
       "[31] 0.518078599 0.147348776 0.980944216 0.202889854 0.437002579 0.836214103\n",
       "[37] 0.483685116 0.943734254 0.461560581 0.852144567 0.368121946 0.970340918\n",
       "[43] 0.772958045 0.089510972 0.018454438 0.757744315 0.701764108 0.197505131\n",
       "[49] 0.002870285 0.381880178"
      ]
     },
     "metadata": {},
     "output_type": "display_data"
    }
   ],
   "source": [
    "# Create Randon data \n",
    "x = runif(50)\n",
    "x"
   ]
  },
  {
   "cell_type": "code",
   "execution_count": 50,
   "metadata": {
    "colab": {
     "base_uri": "https://localhost:8080/",
     "height": 121
    },
    "id": "7EsWl1myJLPW",
    "outputId": "7e09d274-7fe5-4f60-c917-f995311cdf4c"
   },
   "outputs": [
    {
     "data": {
      "text/html": [
       "<style>\n",
       ".list-inline {list-style: none; margin:0; padding: 0}\n",
       ".list-inline>li {display: inline-block}\n",
       ".list-inline>li:not(:last-child)::after {content: \"\\00b7\"; padding: 0 .5ex}\n",
       "</style>\n",
       "<ol class=list-inline><li>1.20394798783424</li><li>0.0591761014620135</li><li>-2.32294221075912</li><li>-1.20115729065557</li><li>-0.908543781457698</li><li>-1.35237276867221</li><li>-1.3866363008119</li><li>0.0247621209464446</li><li>-1.07374962512335</li><li>-0.832749711132235</li><li>-0.341396659253761</li><li>1.08380497568345</li><li>1.055066522446</li><li>-0.0782742430744099</li><li>-1.14257586605797</li><li>-0.120369374145226</li><li>-0.528800728595236</li><li>0.663699047925739</li><li>0.927021499745972</li><li>-1.21089577400041</li><li>-0.498594082777804</li><li>0.124305018442608</li><li>0.295683518077307</li><li>0.611977407077221</li><li>-1.38572490270022</li><li>0.976142667915751</li><li>-0.0110456751835294</li><li>0.302643613666807</li><li>0.774474528226479</li><li>-1.40525572467533</li><li>-0.65853053204847</li><li>0.0357983900227758</li><li>0.446371468322099</li><li>0.0867096951256468</li><li>-0.828919826873718</li><li>-0.888406438192342</li><li>0.446745944403812</li><li>-0.00179910868714192</li><li>0.17757216868445</li><li>-0.462086802909911</li><li>1.5705921151901</li><li>-0.254454629632281</li><li>-1.22860376462023</li><li>0.219983146000885</li><li>0.995470722313268</li><li>-0.284031438474978</li><li>1.08229899145264</li><li>0.790367855921793</li><li>-1.55987003211396</li><li>1.11453590726037</li></ol>\n"
      ],
      "text/latex": [
       "\\begin{enumerate*}\n",
       "\\item 1.20394798783424\n",
       "\\item 0.0591761014620135\n",
       "\\item -2.32294221075912\n",
       "\\item -1.20115729065557\n",
       "\\item -0.908543781457698\n",
       "\\item -1.35237276867221\n",
       "\\item -1.3866363008119\n",
       "\\item 0.0247621209464446\n",
       "\\item -1.07374962512335\n",
       "\\item -0.832749711132235\n",
       "\\item -0.341396659253761\n",
       "\\item 1.08380497568345\n",
       "\\item 1.055066522446\n",
       "\\item -0.0782742430744099\n",
       "\\item -1.14257586605797\n",
       "\\item -0.120369374145226\n",
       "\\item -0.528800728595236\n",
       "\\item 0.663699047925739\n",
       "\\item 0.927021499745972\n",
       "\\item -1.21089577400041\n",
       "\\item -0.498594082777804\n",
       "\\item 0.124305018442608\n",
       "\\item 0.295683518077307\n",
       "\\item 0.611977407077221\n",
       "\\item -1.38572490270022\n",
       "\\item 0.976142667915751\n",
       "\\item -0.0110456751835294\n",
       "\\item 0.302643613666807\n",
       "\\item 0.774474528226479\n",
       "\\item -1.40525572467533\n",
       "\\item -0.65853053204847\n",
       "\\item 0.0357983900227758\n",
       "\\item 0.446371468322099\n",
       "\\item 0.0867096951256468\n",
       "\\item -0.828919826873718\n",
       "\\item -0.888406438192342\n",
       "\\item 0.446745944403812\n",
       "\\item -0.00179910868714192\n",
       "\\item 0.17757216868445\n",
       "\\item -0.462086802909911\n",
       "\\item 1.5705921151901\n",
       "\\item -0.254454629632281\n",
       "\\item -1.22860376462023\n",
       "\\item 0.219983146000885\n",
       "\\item 0.995470722313268\n",
       "\\item -0.284031438474978\n",
       "\\item 1.08229899145264\n",
       "\\item 0.790367855921793\n",
       "\\item -1.55987003211396\n",
       "\\item 1.11453590726037\n",
       "\\end{enumerate*}\n"
      ],
      "text/markdown": [
       "1. 1.20394798783424\n",
       "2. 0.0591761014620135\n",
       "3. -2.32294221075912\n",
       "4. -1.20115729065557\n",
       "5. -0.908543781457698\n",
       "6. -1.35237276867221\n",
       "7. -1.3866363008119\n",
       "8. 0.0247621209464446\n",
       "9. -1.07374962512335\n",
       "10. -0.832749711132235\n",
       "11. -0.341396659253761\n",
       "12. 1.08380497568345\n",
       "13. 1.055066522446\n",
       "14. -0.0782742430744099\n",
       "15. -1.14257586605797\n",
       "16. -0.120369374145226\n",
       "17. -0.528800728595236\n",
       "18. 0.663699047925739\n",
       "19. 0.927021499745972\n",
       "20. -1.21089577400041\n",
       "21. -0.498594082777804\n",
       "22. 0.124305018442608\n",
       "23. 0.295683518077307\n",
       "24. 0.611977407077221\n",
       "25. -1.38572490270022\n",
       "26. 0.976142667915751\n",
       "27. -0.0110456751835294\n",
       "28. 0.302643613666807\n",
       "29. 0.774474528226479\n",
       "30. -1.40525572467533\n",
       "31. -0.65853053204847\n",
       "32. 0.0357983900227758\n",
       "33. 0.446371468322099\n",
       "34. 0.0867096951256468\n",
       "35. -0.828919826873718\n",
       "36. -0.888406438192342\n",
       "37. 0.446745944403812\n",
       "38. -0.00179910868714192\n",
       "39. 0.17757216868445\n",
       "40. -0.462086802909911\n",
       "41. 1.5705921151901\n",
       "42. -0.254454629632281\n",
       "43. -1.22860376462023\n",
       "44. 0.219983146000885\n",
       "45. 0.995470722313268\n",
       "46. -0.284031438474978\n",
       "47. 1.08229899145264\n",
       "48. 0.790367855921793\n",
       "49. -1.55987003211396\n",
       "50. 1.11453590726037\n",
       "\n",
       "\n"
      ],
      "text/plain": [
       " [1]  1.203947988  0.059176101 -2.322942211 -1.201157291 -0.908543781\n",
       " [6] -1.352372769 -1.386636301  0.024762121 -1.073749625 -0.832749711\n",
       "[11] -0.341396659  1.083804976  1.055066522 -0.078274243 -1.142575866\n",
       "[16] -0.120369374 -0.528800729  0.663699048  0.927021500 -1.210895774\n",
       "[21] -0.498594083  0.124305018  0.295683518  0.611977407 -1.385724903\n",
       "[26]  0.976142668 -0.011045675  0.302643614  0.774474528 -1.405255725\n",
       "[31] -0.658530532  0.035798390  0.446371468  0.086709695 -0.828919827\n",
       "[36] -0.888406438  0.446745944 -0.001799109  0.177572169 -0.462086803\n",
       "[41]  1.570592115 -0.254454630 -1.228603765  0.219983146  0.995470722\n",
       "[46] -0.284031438  1.082298991  0.790367856 -1.559870032  1.114535907"
      ]
     },
     "metadata": {},
     "output_type": "display_data"
    }
   ],
   "source": [
    "# Create Normalized random data\n",
    "y = rnorm(50)\n",
    "y"
   ]
  },
  {
   "cell_type": "code",
   "execution_count": 51,
   "metadata": {
    "colab": {
     "base_uri": "https://localhost:8080/",
     "height": 437
    },
    "id": "b-1aZ7wRJS4T",
    "outputId": "4982d817-db26-4957-c397-d76cbe8c6cde"
   },
   "outputs": [
    {
     "data": {
      "image/png": "[encoded data removed]",
      "text/plain": [
       "plot without title"
      ]
     },
     "metadata": {
      "image/png": {
       "height": 420,
       "width": 420
      }
     },
     "output_type": "display_data"
    }
   ],
   "source": [
    "#Plot the Graphic\n",
    "plot(x, y)"
   ]
  },
  {
   "cell_type": "code",
   "execution_count": 55,
   "metadata": {
    "colab": {
     "base_uri": "https://localhost:8080/",
     "height": 437
    },
    "id": "uybM5Nl_JWcN",
    "outputId": "00469f80-de70-4d41-881a-d539d5433888"
   },
   "outputs": [
    {
     "data": {
      "image/png": "[encoded data removed]",
      "text/plain": [
       "plot without title"
      ]
     },
     "metadata": {
      "image/png": {
       "height": 420,
       "width": 420
      }
     },
     "output_type": "display_data"
    }
   ],
   "source": [
    "#Configure the graphics\n",
    "plot(x, y, xlab = \"Random Uniform\", ylab = \"random Normal\", pch = '*', col=\"red\")"
   ]
  },
  {
   "cell_type": "code",
   "execution_count": 58,
   "metadata": {
    "colab": {
     "base_uri": "https://localhost:8080/",
     "height": 437
    },
    "id": "Oscd0USvJlzQ",
    "outputId": "3c826681-462a-4851-be7c-365a457e8d91"
   },
   "outputs": [
    {
     "data": {
      "image/png": "[encoded data removed]",
      "text/plain": [
       "Plot with title “Histogram of y”"
      ]
     },
     "metadata": {
      "image/png": {
       "height": 420,
       "width": 420
      }
     },
     "output_type": "display_data"
    }
   ],
   "source": [
    "# PLot a par of graphics\n",
    "par(mfrow = c(2,1))\n",
    "plot(x, y)\n",
    "hist(y)"
   ]
  },
  {
   "cell_type": "markdown",
   "metadata": {
    "id": "W04nqQ1EKKHr"
   },
   "source": [
    "## Reading in data"
   ]
  },
  {
   "cell_type": "code",
   "execution_count": 59,
   "metadata": {
    "id": "ma7LEfdrJxKA"
   },
   "outputs": [],
   "source": [
    "#Read data to csv\n",
    "auto = read.csv(\"/content/Auto.csv\")"
   ]
  },
  {
   "cell_type": "code",
   "execution_count": 61,
   "metadata": {
    "colab": {
     "base_uri": "https://localhost:8080/",
     "height": 34
    },
    "id": "zzJtm24PKaAr",
    "outputId": "2c63437b-2bb4-4482-caed-5d3e20109612"
   },
   "outputs": [
    {
     "data": {
      "text/html": [
       "<style>\n",
       ".list-inline {list-style: none; margin:0; padding: 0}\n",
       ".list-inline>li {display: inline-block}\n",
       ".list-inline>li:not(:last-child)::after {content: \"\\00b7\"; padding: 0 .5ex}\n",
       "</style>\n",
       "<ol class=list-inline><li>'mpg'</li><li>'cylinders'</li><li>'displacement'</li><li>'horsepower'</li><li>'weight'</li><li>'acceleration'</li><li>'year'</li><li>'origin'</li><li>'name'</li></ol>\n"
      ],
      "text/latex": [
       "\\begin{enumerate*}\n",
       "\\item 'mpg'\n",
       "\\item 'cylinders'\n",
       "\\item 'displacement'\n",
       "\\item 'horsepower'\n",
       "\\item 'weight'\n",
       "\\item 'acceleration'\n",
       "\\item 'year'\n",
       "\\item 'origin'\n",
       "\\item 'name'\n",
       "\\end{enumerate*}\n"
      ],
      "text/markdown": [
       "1. 'mpg'\n",
       "2. 'cylinders'\n",
       "3. 'displacement'\n",
       "4. 'horsepower'\n",
       "5. 'weight'\n",
       "6. 'acceleration'\n",
       "7. 'year'\n",
       "8. 'origin'\n",
       "9. 'name'\n",
       "\n",
       "\n"
      ],
      "text/plain": [
       "[1] \"mpg\"          \"cylinders\"    \"displacement\" \"horsepower\"   \"weight\"      \n",
       "[6] \"acceleration\" \"year\"         \"origin\"       \"name\"        "
      ]
     },
     "metadata": {},
     "output_type": "display_data"
    }
   ],
   "source": [
    "#Nome of columns\n",
    "names(auto)"
   ]
  },
  {
   "cell_type": "code",
   "execution_count": 62,
   "metadata": {
    "colab": {
     "base_uri": "https://localhost:8080/",
     "height": 34
    },
    "id": "5IbkJn4rKfo7",
    "outputId": "243b3913-dd6e-4674-9963-a91b40ccbb07"
   },
   "outputs": [
    {
     "data": {
      "text/html": [
       "<style>\n",
       ".list-inline {list-style: none; margin:0; padding: 0}\n",
       ".list-inline>li {display: inline-block}\n",
       ".list-inline>li:not(:last-child)::after {content: \"\\00b7\"; padding: 0 .5ex}\n",
       "</style>\n",
       "<ol class=list-inline><li>397</li><li>9</li></ol>\n"
      ],
      "text/latex": [
       "\\begin{enumerate*}\n",
       "\\item 397\n",
       "\\item 9\n",
       "\\end{enumerate*}\n"
      ],
      "text/markdown": [
       "1. 397\n",
       "2. 9\n",
       "\n",
       "\n"
      ],
      "text/plain": [
       "[1] 397   9"
      ]
     },
     "metadata": {},
     "output_type": "display_data"
    }
   ],
   "source": [
    "dim(auto)"
   ]
  },
  {
   "cell_type": "code",
   "execution_count": 64,
   "metadata": {
    "colab": {
     "base_uri": "https://localhost:8080/",
     "height": 34
    },
    "id": "QHjVS-LxKhaD",
    "outputId": "e68787fd-ce12-4fa8-9c72-c6131843c896"
   },
   "outputs": [
    {
     "data": {
      "text/html": [
       "'data.frame'"
      ],
      "text/latex": [
       "'data.frame'"
      ],
      "text/markdown": [
       "'data.frame'"
      ],
      "text/plain": [
       "[1] \"data.frame\""
      ]
     },
     "metadata": {},
     "output_type": "display_data"
    }
   ],
   "source": [
    "#Type of data\n",
    "class(auto)"
   ]
  },
  {
   "cell_type": "code",
   "execution_count": 70,
   "metadata": {
    "colab": {
     "base_uri": "https://localhost:8080/",
     "height": 398
    },
    "id": "N6qzUXRgK3TL",
    "outputId": "74943654-129a-4e65-c19c-8c99a5dbedda"
   },
   "outputs": [
    {
     "data": {
      "text/plain": [
       "      mpg          cylinders      displacement    horsepower       \n",
       " Min.   : 9.00   Min.   :3.000   Min.   : 68.0   Length:397        \n",
       " 1st Qu.:17.50   1st Qu.:4.000   1st Qu.:104.0   Class :character  \n",
       " Median :23.00   Median :4.000   Median :146.0   Mode  :character  \n",
       " Mean   :23.52   Mean   :5.458   Mean   :193.5                     \n",
       " 3rd Qu.:29.00   3rd Qu.:8.000   3rd Qu.:262.0                     \n",
       " Max.   :46.60   Max.   :8.000   Max.   :455.0                     \n",
       "     weight      acceleration        year           origin     \n",
       " Min.   :1613   Min.   : 8.00   Min.   :70.00   Min.   :1.000  \n",
       " 1st Qu.:2223   1st Qu.:13.80   1st Qu.:73.00   1st Qu.:1.000  \n",
       " Median :2800   Median :15.50   Median :76.00   Median :1.000  \n",
       " Mean   :2970   Mean   :15.56   Mean   :75.99   Mean   :1.574  \n",
       " 3rd Qu.:3609   3rd Qu.:17.10   3rd Qu.:79.00   3rd Qu.:2.000  \n",
       " Max.   :5140   Max.   :24.80   Max.   :82.00   Max.   :3.000  \n",
       "     name          \n",
       " Length:397        \n",
       " Class :character  \n",
       " Mode  :character  \n",
       "                   \n",
       "                   \n",
       "                   "
      ]
     },
     "metadata": {},
     "output_type": "display_data"
    }
   ],
   "source": [
    "summary(auto)"
   ]
  },
  {
   "cell_type": "code",
   "execution_count": 73,
   "metadata": {
    "colab": {
     "base_uri": "https://localhost:8080/",
     "height": 286
    },
    "id": "wQMjplBAKm0E",
    "outputId": "2077ac8f-3876-41eb-8474-46274fdb5577"
   },
   "outputs": [
    {
     "data": {
      "text/html": [
       "<table class=\"dataframe\">\n",
       "<caption>A data.frame: 6 × 9</caption>\n",
       "<thead>\n",
       "\t<tr><th></th><th scope=col>mpg</th><th scope=col>cylinders</th><th scope=col>displacement</th><th scope=col>horsepower</th><th scope=col>weight</th><th scope=col>acceleration</th><th scope=col>year</th><th scope=col>origin</th><th scope=col>name</th></tr>\n",
       "\t<tr><th></th><th scope=col>&lt;dbl&gt;</th><th scope=col>&lt;int&gt;</th><th scope=col>&lt;dbl&gt;</th><th scope=col>&lt;chr&gt;</th><th scope=col>&lt;int&gt;</th><th scope=col>&lt;dbl&gt;</th><th scope=col>&lt;int&gt;</th><th scope=col>&lt;int&gt;</th><th scope=col>&lt;chr&gt;</th></tr>\n",
       "</thead>\n",
       "<tbody>\n",
       "\t<tr><th scope=row>1</th><td>18</td><td>8</td><td>307</td><td>130</td><td>3504</td><td>12.0</td><td>70</td><td>1</td><td>chevrolet chevelle malibu</td></tr>\n",
       "\t<tr><th scope=row>2</th><td>15</td><td>8</td><td>350</td><td>165</td><td>3693</td><td>11.5</td><td>70</td><td>1</td><td>buick skylark 320        </td></tr>\n",
       "\t<tr><th scope=row>3</th><td>18</td><td>8</td><td>318</td><td>150</td><td>3436</td><td>11.0</td><td>70</td><td>1</td><td>plymouth satellite       </td></tr>\n",
       "\t<tr><th scope=row>4</th><td>16</td><td>8</td><td>304</td><td>150</td><td>3433</td><td>12.0</td><td>70</td><td>1</td><td>amc rebel sst            </td></tr>\n",
       "\t<tr><th scope=row>5</th><td>17</td><td>8</td><td>302</td><td>140</td><td>3449</td><td>10.5</td><td>70</td><td>1</td><td>ford torino              </td></tr>\n",
       "\t<tr><th scope=row>6</th><td>15</td><td>8</td><td>429</td><td>198</td><td>4341</td><td>10.0</td><td>70</td><td>1</td><td>ford galaxie 500         </td></tr>\n",
       "</tbody>\n",
       "</table>\n"
      ],
      "text/latex": [
       "A data.frame: 6 × 9\n",
       "\\begin{tabular}{r|lllllllll}\n",
       "  & mpg & cylinders & displacement & horsepower & weight & acceleration & year & origin & name\\\\\n",
       "  & <dbl> & <int> & <dbl> & <chr> & <int> & <dbl> & <int> & <int> & <chr>\\\\\n",
       "\\hline\n",
       "\t1 & 18 & 8 & 307 & 130 & 3504 & 12.0 & 70 & 1 & chevrolet chevelle malibu\\\\\n",
       "\t2 & 15 & 8 & 350 & 165 & 3693 & 11.5 & 70 & 1 & buick skylark 320        \\\\\n",
       "\t3 & 18 & 8 & 318 & 150 & 3436 & 11.0 & 70 & 1 & plymouth satellite       \\\\\n",
       "\t4 & 16 & 8 & 304 & 150 & 3433 & 12.0 & 70 & 1 & amc rebel sst            \\\\\n",
       "\t5 & 17 & 8 & 302 & 140 & 3449 & 10.5 & 70 & 1 & ford torino              \\\\\n",
       "\t6 & 15 & 8 & 429 & 198 & 4341 & 10.0 & 70 & 1 & ford galaxie 500         \\\\\n",
       "\\end{tabular}\n"
      ],
      "text/markdown": [
       "\n",
       "A data.frame: 6 × 9\n",
       "\n",
       "| <!--/--> | mpg &lt;dbl&gt; | cylinders &lt;int&gt; | displacement &lt;dbl&gt; | horsepower &lt;chr&gt; | weight &lt;int&gt; | acceleration &lt;dbl&gt; | year &lt;int&gt; | origin &lt;int&gt; | name &lt;chr&gt; |\n",
       "|---|---|---|---|---|---|---|---|---|---|\n",
       "| 1 | 18 | 8 | 307 | 130 | 3504 | 12.0 | 70 | 1 | chevrolet chevelle malibu |\n",
       "| 2 | 15 | 8 | 350 | 165 | 3693 | 11.5 | 70 | 1 | buick skylark 320         |\n",
       "| 3 | 18 | 8 | 318 | 150 | 3436 | 11.0 | 70 | 1 | plymouth satellite        |\n",
       "| 4 | 16 | 8 | 304 | 150 | 3433 | 12.0 | 70 | 1 | amc rebel sst             |\n",
       "| 5 | 17 | 8 | 302 | 140 | 3449 | 10.5 | 70 | 1 | ford torino               |\n",
       "| 6 | 15 | 8 | 429 | 198 | 4341 | 10.0 | 70 | 1 | ford galaxie 500          |\n",
       "\n"
      ],
      "text/plain": [
       "  mpg cylinders displacement horsepower weight acceleration year origin\n",
       "1 18  8         307          130        3504   12.0         70   1     \n",
       "2 15  8         350          165        3693   11.5         70   1     \n",
       "3 18  8         318          150        3436   11.0         70   1     \n",
       "4 16  8         304          150        3433   12.0         70   1     \n",
       "5 17  8         302          140        3449   10.5         70   1     \n",
       "6 15  8         429          198        4341   10.0         70   1     \n",
       "  name                     \n",
       "1 chevrolet chevelle malibu\n",
       "2 buick skylark 320        \n",
       "3 plymouth satellite       \n",
       "4 amc rebel sst            \n",
       "5 ford torino              \n",
       "6 ford galaxie 500         "
      ]
     },
     "metadata": {},
     "output_type": "display_data"
    }
   ],
   "source": [
    "#Frist 6 elements of dataframe\n",
    "head(auto)"
   ]
  },
  {
   "cell_type": "code",
   "execution_count": 74,
   "metadata": {
    "colab": {
     "base_uri": "https://localhost:8080/",
     "height": 286
    },
    "id": "aROKjf9iLOM8",
    "outputId": "c22bf886-de5b-4f3d-8492-68de89374062"
   },
   "outputs": [
    {
     "data": {
      "text/html": [
       "<table class=\"dataframe\">\n",
       "<caption>A data.frame: 6 × 9</caption>\n",
       "<thead>\n",
       "\t<tr><th></th><th scope=col>mpg</th><th scope=col>cylinders</th><th scope=col>displacement</th><th scope=col>horsepower</th><th scope=col>weight</th><th scope=col>acceleration</th><th scope=col>year</th><th scope=col>origin</th><th scope=col>name</th></tr>\n",
       "\t<tr><th></th><th scope=col>&lt;dbl&gt;</th><th scope=col>&lt;int&gt;</th><th scope=col>&lt;dbl&gt;</th><th scope=col>&lt;chr&gt;</th><th scope=col>&lt;int&gt;</th><th scope=col>&lt;dbl&gt;</th><th scope=col>&lt;int&gt;</th><th scope=col>&lt;int&gt;</th><th scope=col>&lt;chr&gt;</th></tr>\n",
       "</thead>\n",
       "<tbody>\n",
       "\t<tr><th scope=row>392</th><td>27</td><td>4</td><td>151</td><td>90</td><td>2950</td><td>17.3</td><td>82</td><td>1</td><td>chevrolet camaro</td></tr>\n",
       "\t<tr><th scope=row>393</th><td>27</td><td>4</td><td>140</td><td>86</td><td>2790</td><td>15.6</td><td>82</td><td>1</td><td>ford mustang gl </td></tr>\n",
       "\t<tr><th scope=row>394</th><td>44</td><td>4</td><td> 97</td><td>52</td><td>2130</td><td>24.6</td><td>82</td><td>2</td><td>vw pickup       </td></tr>\n",
       "\t<tr><th scope=row>395</th><td>32</td><td>4</td><td>135</td><td>84</td><td>2295</td><td>11.6</td><td>82</td><td>1</td><td>dodge rampage   </td></tr>\n",
       "\t<tr><th scope=row>396</th><td>28</td><td>4</td><td>120</td><td>79</td><td>2625</td><td>18.6</td><td>82</td><td>1</td><td>ford ranger     </td></tr>\n",
       "\t<tr><th scope=row>397</th><td>31</td><td>4</td><td>119</td><td>82</td><td>2720</td><td>19.4</td><td>82</td><td>1</td><td>chevy s-10      </td></tr>\n",
       "</tbody>\n",
       "</table>\n"
      ],
      "text/latex": [
       "A data.frame: 6 × 9\n",
       "\\begin{tabular}{r|lllllllll}\n",
       "  & mpg & cylinders & displacement & horsepower & weight & acceleration & year & origin & name\\\\\n",
       "  & <dbl> & <int> & <dbl> & <chr> & <int> & <dbl> & <int> & <int> & <chr>\\\\\n",
       "\\hline\n",
       "\t392 & 27 & 4 & 151 & 90 & 2950 & 17.3 & 82 & 1 & chevrolet camaro\\\\\n",
       "\t393 & 27 & 4 & 140 & 86 & 2790 & 15.6 & 82 & 1 & ford mustang gl \\\\\n",
       "\t394 & 44 & 4 &  97 & 52 & 2130 & 24.6 & 82 & 2 & vw pickup       \\\\\n",
       "\t395 & 32 & 4 & 135 & 84 & 2295 & 11.6 & 82 & 1 & dodge rampage   \\\\\n",
       "\t396 & 28 & 4 & 120 & 79 & 2625 & 18.6 & 82 & 1 & ford ranger     \\\\\n",
       "\t397 & 31 & 4 & 119 & 82 & 2720 & 19.4 & 82 & 1 & chevy s-10      \\\\\n",
       "\\end{tabular}\n"
      ],
      "text/markdown": [
       "\n",
       "A data.frame: 6 × 9\n",
       "\n",
       "| <!--/--> | mpg &lt;dbl&gt; | cylinders &lt;int&gt; | displacement &lt;dbl&gt; | horsepower &lt;chr&gt; | weight &lt;int&gt; | acceleration &lt;dbl&gt; | year &lt;int&gt; | origin &lt;int&gt; | name &lt;chr&gt; |\n",
       "|---|---|---|---|---|---|---|---|---|---|\n",
       "| 392 | 27 | 4 | 151 | 90 | 2950 | 17.3 | 82 | 1 | chevrolet camaro |\n",
       "| 393 | 27 | 4 | 140 | 86 | 2790 | 15.6 | 82 | 1 | ford mustang gl  |\n",
       "| 394 | 44 | 4 |  97 | 52 | 2130 | 24.6 | 82 | 2 | vw pickup        |\n",
       "| 395 | 32 | 4 | 135 | 84 | 2295 | 11.6 | 82 | 1 | dodge rampage    |\n",
       "| 396 | 28 | 4 | 120 | 79 | 2625 | 18.6 | 82 | 1 | ford ranger      |\n",
       "| 397 | 31 | 4 | 119 | 82 | 2720 | 19.4 | 82 | 1 | chevy s-10       |\n",
       "\n"
      ],
      "text/plain": [
       "    mpg cylinders displacement horsepower weight acceleration year origin\n",
       "392 27  4         151          90         2950   17.3         82   1     \n",
       "393 27  4         140          86         2790   15.6         82   1     \n",
       "394 44  4          97          52         2130   24.6         82   2     \n",
       "395 32  4         135          84         2295   11.6         82   1     \n",
       "396 28  4         120          79         2625   18.6         82   1     \n",
       "397 31  4         119          82         2720   19.4         82   1     \n",
       "    name            \n",
       "392 chevrolet camaro\n",
       "393 ford mustang gl \n",
       "394 vw pickup       \n",
       "395 dodge rampage   \n",
       "396 ford ranger     \n",
       "397 chevy s-10      "
      ]
     },
     "metadata": {},
     "output_type": "display_data"
    }
   ],
   "source": [
    "#last 6 elements of dataframe\n",
    "tail(auto)"
   ]
  },
  {
   "cell_type": "code",
   "execution_count": 71,
   "metadata": {
    "colab": {
     "base_uri": "https://localhost:8080/",
     "height": 437
    },
    "id": "3TReKRRKLA6z",
    "outputId": "20b8306d-ef93-47dd-afe0-4e4142307008"
   },
   "outputs": [
    {
     "data": {
      "image/png": "[encoded data removed]",
      "text/plain": [
       "plot without title"
      ]
     },
     "metadata": {
      "image/png": {
       "height": 420,
       "width": 420
      }
     },
     "output_type": "display_data"
    }
   ],
   "source": [
    "plot(auto$cylinders, auto$mpg)"
   ]
  },
  {
   "cell_type": "code",
   "execution_count": 76,
   "metadata": {
    "colab": {
     "base_uri": "https://localhost:8080/",
     "height": 437
    },
    "id": "QBc-UrPyLZ1p",
    "outputId": "57712cc9-c5b4-46d4-9577-0599f1fcdeed"
   },
   "outputs": [
    {
     "data": {
      "image/png": "[encoded data removed]",
      "text/plain": [
       "plot without title"
      ]
     },
     "metadata": {
      "image/png": {
       "height": 420,
       "width": 420
      }
     },
     "output_type": "display_data"
    }
   ],
   "source": [
    "# We can use simflification name of column\n",
    "plot(auto$cyl, auto$mpg)"
   ]
  },
  {
   "cell_type": "code",
   "execution_count": 82,
   "metadata": {
    "colab": {
     "base_uri": "https://localhost:8080/",
     "height": 437
    },
    "id": "OyuiK6nEL21D",
    "outputId": "c599089f-eb6f-4f65-aaa4-e989edca0610"
   },
   "outputs": [
    {
     "data": {
      "image/png": "[encoded data removed]",
      "text/plain": [
       "plot without title"
      ]
     },
     "metadata": {
      "image/png": {
       "height": 420,
       "width": 420
      }
     },
     "output_type": "display_data"
    }
   ],
   "source": [
    "# Dont need more to the name of data\n",
    "attach(auto)\n",
    "search()\n",
    "plot(cylinders, mpg)"
   ]
  },
  {
   "cell_type": "code",
   "execution_count": 86,
   "metadata": {
    "id": "KVO-LVr0MrVR"
   },
   "outputs": [],
   "source": [
    "#ask for help\n",
    "?summary()"
   ]
  }
 ],
 "metadata": {
  "accelerator": "TPU",
  "colab": {
   "collapsed_sections": [],
   "machine_shape": "hm",
   "name": "w2_introduction_to_R.ipynb",
   "provenance": []
  },
  "kernelspec": {
   "display_name": "Python 3 (ipykernel)",
   "language": "python",
   "name": "python3"
  },
  "language_info": {
   "codemirror_mode": {
    "name": "ipython",
    "version": 3
   },
   "file_extension": ".py",
   "mimetype": "text/x-python",
   "name": "python",
   "nbconvert_exporter": "python",
   "pygments_lexer": "ipython3",
   "version": "3.9.10"
  }
 },
 "nbformat": 4,
 "nbformat_minor": 1
}
