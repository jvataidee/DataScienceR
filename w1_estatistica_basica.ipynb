{
  "nbformat": 4,
  "nbformat_minor": 0,
  "metadata": {
    "colab": {
      "name": "w1_estatistica_basica.ipynb",
      "provenance": [],
      "collapsed_sections": [],
      "machine_shape": "hm"
    },
    "kernelspec": {
      "name": "ir",
      "display_name": "R"
    },
    "language_info": {
      "name": "R"
    },
    "accelerator": "TPU"
  },
  "cells": [
    {
      "cell_type": "markdown",
      "source": [
        "<img src=\"https://bsbr.com.br/wp-content/uploads/2018/05/01_logo-bsbr-padrao-med.png\" width=\"200\"/>\n",
        "\n",
        "**by: [João Ataíde](https://www.joaoataide.com/)**\n",
        "___"
      ],
      "metadata": {
        "id": "3VQDRB_-iJhz"
      }
    },
    {
      "cell_type": "markdown",
      "source": [
        "# **WEEK 1 - ESTATÍSTICA BÁSICA**\n",
        "**Instituto Business School Brasil <br>\n",
        "MBA Pesquisa Operacional e Tomada de Decisão<br>\n",
        "Disciplina de Estatítica <br>\n",
        "Prof. Thiago Marques <br>**"
      ],
      "metadata": {
        "id": "-FiVHvqPjX3w"
      }
    },
    {
      "cell_type": "markdown",
      "source": [
        "\n",
        "## O que é estatística?\n",
        "*   Área da ciência encarregada em *Coletar, organizar, descrever, analisar e implementar dados para extrair conclusões*\n",
        "*   *Torturar dados até os dados darem a resposta*\n"
      ],
      "metadata": {
        "id": "NvcB6Nbw5t7b"
      }
    },
    {
      "cell_type": "markdown",
      "source": [
        "\n",
        "## Áreas da estatística\n",
        "\n",
        "*   `[Descritiva]` - **Organizar** e **Descrever** os dados os dados que podem ser usados em tabelas e gráficos.\n",
        "    *   `[Mediadas Posição]` - **Tendência central**: Grau de concentração dos dados, **EX: Média, Moda, Mediana e Medidas Separatrizer** \n",
        "    *   `[Medidas de Dispersão]` - Grau de dispersão dos dados em torno de uma medida de posição, **EX: Desvio Padrão, Variáncia, Cieficiente de Variação**\n",
        "*   `[Probabilidade]` - **Descrever fenômenos aleatórios**, aqueles que contêm incertezas\n",
        "*   `[Amostragem]` - Conjunto de Técnicas para **estimar e obter informações**, permitir encontrar parâmentros com base uma população.\n",
        "    *    `[População]` - *CONCEITO:* Todos indivíduos com mesma característica do seu estudo\n",
        "*   `[Inferência]` - Estimar fenômenos de uma amostra para uma população"
      ],
      "metadata": {
        "id": "zFYylVz85wDj"
      }
    },
    {
      "cell_type": "markdown",
      "source": [
        "## O que é Data Science?\n",
        "Extrair insights com base em dados: <s> $ Estatística + TI + Negócio$"
      ],
      "metadata": {
        "id": "Wp7aLOAX5yMI"
      }
    },
    {
      "cell_type": "markdown",
      "source": [
        "## Etapas análise estatística\n",
        "\n",
        "**População** ⇌ **Amostragem** ⇌ **Amostra** ⇌ **Informações Contidas nos dados** ⇌ **Conclusão sobre as características das população** ⇌ **População**\n",
        "\n"
      ],
      "metadata": {
        "id": "YK4gaBea5z4X"
      }
    },
    {
      "cell_type": "markdown",
      "source": [
        "## Conceitos Básicos\n",
        "\n",
        "*   `[Censo]` - Exame de todos os Elementos da **população**\n",
        "*   `[Dados Brutos]`- Forma *Primitiva* dos dados, desprovidos de pré-processamento e **não ordenados**\n",
        "*   `[Rol Estatístico]` - Dados brutos já **ordenados**, de ondem decrescente e crescente\n",
        "\n"
      ],
      "metadata": {
        "id": "RFppyEPq504b"
      }
    },
    {
      "cell_type": "markdown",
      "source": [
        "## Dados Tabelados\n",
        "### Frequências [ $f$ ]\n",
        "*   `Contagem simples` $f_{i}$ - Contagem direta das classes\n",
        "*   `Contagem acumulada` $f_{ac}$ - Contagem acumulada até a classe de interesse\n",
        "*   `Relativa simples` $f_{r}$ - Contagem simples, soma das frequências simples que prepresenta proporção ou percentual de observações\n",
        "*   `Relativa acumuladas` $f_{rac}$ - Participação acumulada de cada classe de interesse, dividido pela soma das frequências\n",
        "*   `Distribuição de classe` $f_{classe}$ - Comportamento por classe"
      ],
      "metadata": {
        "id": "CsC0sAbx513e"
      }
    },
    {
      "cell_type": "markdown",
      "source": [
        "<img src=\"https://encrypted-tbn0.gstatic.com/images?q=tbn:ANd9GcRhKXLrhVnS_qPf92p5eUKlKCJfvbZM7xLSBA&usqp=CAU\" width=\"50\"/>\n",
        "\n",
        "## **PRÁTICA EM R**\n"
      ],
      "metadata": {
        "id": "TZRzVUDG5BCU"
      }
    },
    {
      "cell_type": "code",
      "source": [
        "#instalando lib\n",
        "install.packages(\"devtools\",lib='/usr/lib/R/library')"
      ],
      "metadata": {
        "id": "QrEOq0SkrALV"
      },
      "execution_count": null,
      "outputs": []
    },
    {
      "cell_type": "code",
      "source": [
        "#instalar libs pelo github\n",
        "devtools::install_github(\"juba/rmdformats\", force = TRUE)\n",
        "devtools::install_github(\"glin/reactable\", force = TRUE)"
      ],
      "metadata": {
        "id": "YFsDyXGs91y8"
      },
      "execution_count": null,
      "outputs": []
    },
    {
      "cell_type": "code",
      "source": [
        "vector_pacote = c(\n",
        "    \"rmdformats\",\n",
        "    \"reactable\",\n",
        "    \"dplyr\",\n",
        "    \"kableExtra\"\n",
        ")"
      ],
      "metadata": {
        "id": "ld1UpM-H8G58"
      },
      "execution_count": 6,
      "outputs": []
    },
    {
      "cell_type": "code",
      "source": [
        "# Primeiros passos - Criando Vetor\n",
        "idade = c(\n",
        "    10, 10, 10, 10, 30, 30,30, 30,30,\n",
        "    30,40,30,50,50,50,50,70,70,70,90\n",
        "    )\n",
        "\n",
        "print(idade)"
      ],
      "metadata": {
        "colab": {
          "base_uri": "https://localhost:8080/"
        },
        "id": "_e9WUhLX8yRX",
        "outputId": "68266916-2c08-4513-c01e-dcad3883e3c8"
      },
      "execution_count": 148,
      "outputs": [
        {
          "output_type": "stream",
          "name": "stdout",
          "text": [
            " [1] 10 10 10 10 30 30 30 30 30 30 40 30 50 50 50 50 70 70 70 90\n"
          ]
        }
      ]
    },
    {
      "cell_type": "code",
      "source": [
        "#Criando vetor de outra forma\n",
        "idade2 = c(rep(10, 4), rep(30, 8), rep(50, 4), rep(70, 3), 90)\n",
        "\n",
        "idade2"
      ],
      "metadata": {
        "colab": {
          "base_uri": "https://localhost:8080/",
          "height": 34
        },
        "id": "RXa_zUuz_-tq",
        "outputId": "b9125201-6712-4a35-a616-abb495c9cc55"
      },
      "execution_count": 108,
      "outputs": [
        {
          "output_type": "display_data",
          "data": {
            "text/plain": [
              " [1] 10 10 10 10 30 30 30 30 30 30 30 30 50 50 50 50 70 70 70 90"
            ],
            "text/latex": "\\begin{enumerate*}\n\\item 10\n\\item 10\n\\item 10\n\\item 10\n\\item 30\n\\item 30\n\\item 30\n\\item 30\n\\item 30\n\\item 30\n\\item 30\n\\item 30\n\\item 50\n\\item 50\n\\item 50\n\\item 50\n\\item 70\n\\item 70\n\\item 70\n\\item 90\n\\end{enumerate*}\n",
            "text/markdown": "1. 10\n2. 10\n3. 10\n4. 10\n5. 30\n6. 30\n7. 30\n8. 30\n9. 30\n10. 30\n11. 30\n12. 30\n13. 50\n14. 50\n15. 50\n16. 50\n17. 70\n18. 70\n19. 70\n20. 90\n\n\n",
            "text/html": [
              "<style>\n",
              ".list-inline {list-style: none; margin:0; padding: 0}\n",
              ".list-inline>li {display: inline-block}\n",
              ".list-inline>li:not(:last-child)::after {content: \"\\00b7\"; padding: 0 .5ex}\n",
              "</style>\n",
              "<ol class=list-inline><li>10</li><li>10</li><li>10</li><li>10</li><li>30</li><li>30</li><li>30</li><li>30</li><li>30</li><li>30</li><li>30</li><li>30</li><li>50</li><li>50</li><li>50</li><li>50</li><li>70</li><li>70</li><li>70</li><li>90</li></ol>\n"
            ]
          },
          "metadata": {}
        }
      ]
    },
    {
      "cell_type": "code",
      "source": [
        "# Frequência simples\n",
        "frequencia_simples = table(idade)\n",
        "frequencia_simples"
      ],
      "metadata": {
        "colab": {
          "base_uri": "https://localhost:8080/",
          "height": 71
        },
        "id": "A-00NxDXAG-b",
        "outputId": "7c64f707-30ae-4d9f-e269-0990d293ec71"
      },
      "execution_count": 150,
      "outputs": [
        {
          "output_type": "display_data",
          "data": {
            "text/plain": [
              "idade\n",
              "10 30 40 50 70 90 \n",
              " 4  7  1  4  3  1 "
            ]
          },
          "metadata": {}
        }
      ]
    },
    {
      "cell_type": "code",
      "source": [
        "#Colocando no Visual excel\n",
        "dados_simples = data.frame(frequencia_simples)\n",
        "dados_simples"
      ],
      "metadata": {
        "colab": {
          "base_uri": "https://localhost:8080/",
          "height": 303
        },
        "id": "g6-BeFfBAPJQ",
        "outputId": "0fc7ebda-f978-44ec-a154-c2f87871002f"
      },
      "execution_count": 110,
      "outputs": [
        {
          "output_type": "display_data",
          "data": {
            "text/plain": [
              "  idade Freq\n",
              "1 10    4   \n",
              "2 30    7   \n",
              "3 40    1   \n",
              "4 50    4   \n",
              "5 70    3   \n",
              "6 90    1   "
            ],
            "text/latex": "A data.frame: 6 × 2\n\\begin{tabular}{ll}\n idade & Freq\\\\\n <fct> & <int>\\\\\n\\hline\n\t 10 & 4\\\\\n\t 30 & 7\\\\\n\t 40 & 1\\\\\n\t 50 & 4\\\\\n\t 70 & 3\\\\\n\t 90 & 1\\\\\n\\end{tabular}\n",
            "text/markdown": "\nA data.frame: 6 × 2\n\n| idade &lt;fct&gt; | Freq &lt;int&gt; |\n|---|---|\n| 10 | 4 |\n| 30 | 7 |\n| 40 | 1 |\n| 50 | 4 |\n| 70 | 3 |\n| 90 | 1 |\n\n",
            "text/html": [
              "<table class=\"dataframe\">\n",
              "<caption>A data.frame: 6 × 2</caption>\n",
              "<thead>\n",
              "\t<tr><th scope=col>idade</th><th scope=col>Freq</th></tr>\n",
              "\t<tr><th scope=col>&lt;fct&gt;</th><th scope=col>&lt;int&gt;</th></tr>\n",
              "</thead>\n",
              "<tbody>\n",
              "\t<tr><td>10</td><td>4</td></tr>\n",
              "\t<tr><td>30</td><td>7</td></tr>\n",
              "\t<tr><td>40</td><td>1</td></tr>\n",
              "\t<tr><td>50</td><td>4</td></tr>\n",
              "\t<tr><td>70</td><td>3</td></tr>\n",
              "\t<tr><td>90</td><td>1</td></tr>\n",
              "</tbody>\n",
              "</table>\n"
            ]
          },
          "metadata": {}
        }
      ]
    },
    {
      "cell_type": "code",
      "source": [
        "#Ver o banco todo (Não recomendável para bancos gigantescos)\n",
        "View(dados_simples)"
      ],
      "metadata": {
        "colab": {
          "base_uri": "https://localhost:8080/",
          "height": 303
        },
        "id": "PTQ5RlxIAcYa",
        "outputId": "171ea281-8997-4d30-8243-88b50257dddc"
      },
      "execution_count": 111,
      "outputs": [
        {
          "output_type": "display_data",
          "data": {
            "text/markdown": "\nA data.frame: 6 × 2\n\n| idade &lt;fct&gt; | Freq &lt;int&gt; |\n|---|---|\n| 10 | 4 |\n| 30 | 7 |\n| 40 | 1 |\n| 50 | 4 |\n| 70 | 3 |\n| 90 | 1 |\n\n",
            "text/latex": "A data.frame: 6 × 2\n\\begin{tabular}{ll}\n idade & Freq\\\\\n <fct> & <int>\\\\\n\\hline\n\t 10 & 4\\\\\n\t 30 & 7\\\\\n\t 40 & 1\\\\\n\t 50 & 4\\\\\n\t 70 & 3\\\\\n\t 90 & 1\\\\\n\\end{tabular}\n",
            "text/html": [
              "<table class=\"dataframe\">\n",
              "<caption>A data.frame: 6 × 2</caption>\n",
              "<thead>\n",
              "\t<tr><th scope=col>idade</th><th scope=col>Freq</th></tr>\n",
              "\t<tr><th scope=col>&lt;fct&gt;</th><th scope=col>&lt;int&gt;</th></tr>\n",
              "</thead>\n",
              "<tbody>\n",
              "\t<tr><td>10</td><td>4</td></tr>\n",
              "\t<tr><td>30</td><td>7</td></tr>\n",
              "\t<tr><td>40</td><td>1</td></tr>\n",
              "\t<tr><td>50</td><td>4</td></tr>\n",
              "\t<tr><td>70</td><td>3</td></tr>\n",
              "\t<tr><td>90</td><td>1</td></tr>\n",
              "</tbody>\n",
              "</table>\n"
            ],
            "text/plain": [
              "  idade Freq\n",
              "1 10    4   \n",
              "2 30    7   \n",
              "3 40    1   \n",
              "4 50    4   \n",
              "5 70    3   \n",
              "6 90    1   "
            ]
          },
          "metadata": {}
        }
      ]
    },
    {
      "cell_type": "code",
      "source": [
        "#Ver as n primeiras linhas do data.frame\n",
        "head(dados_simples, 2)"
      ],
      "metadata": {
        "colab": {
          "base_uri": "https://localhost:8080/",
          "height": 161
        },
        "id": "dTPTvylJAcrE",
        "outputId": "29385edc-0e7c-45c7-f1b9-9a1a26ca3c16"
      },
      "execution_count": 112,
      "outputs": [
        {
          "output_type": "display_data",
          "data": {
            "text/plain": [
              "  idade Freq\n",
              "1 10    4   \n",
              "2 30    7   "
            ],
            "text/latex": "A data.frame: 2 × 2\n\\begin{tabular}{r|ll}\n  & idade & Freq\\\\\n  & <fct> & <int>\\\\\n\\hline\n\t1 & 10 & 4\\\\\n\t2 & 30 & 7\\\\\n\\end{tabular}\n",
            "text/markdown": "\nA data.frame: 2 × 2\n\n| <!--/--> | idade &lt;fct&gt; | Freq &lt;int&gt; |\n|---|---|---|\n| 1 | 10 | 4 |\n| 2 | 30 | 7 |\n\n",
            "text/html": [
              "<table class=\"dataframe\">\n",
              "<caption>A data.frame: 2 × 2</caption>\n",
              "<thead>\n",
              "\t<tr><th></th><th scope=col>idade</th><th scope=col>Freq</th></tr>\n",
              "\t<tr><th></th><th scope=col>&lt;fct&gt;</th><th scope=col>&lt;int&gt;</th></tr>\n",
              "</thead>\n",
              "<tbody>\n",
              "\t<tr><th scope=row>1</th><td>10</td><td>4</td></tr>\n",
              "\t<tr><th scope=row>2</th><td>30</td><td>7</td></tr>\n",
              "</tbody>\n",
              "</table>\n"
            ]
          },
          "metadata": {}
        }
      ]
    },
    {
      "cell_type": "code",
      "source": [
        "tail(dados_simples, 2)"
      ],
      "metadata": {
        "colab": {
          "base_uri": "https://localhost:8080/",
          "height": 161
        },
        "id": "af_JZ34aMtQu",
        "outputId": "903474f5-1dfa-4169-c92e-d1c3c5500ef9"
      },
      "execution_count": 115,
      "outputs": [
        {
          "output_type": "display_data",
          "data": {
            "text/plain": [
              "  idade Freq fa\n",
              "5 70    3    19\n",
              "6 90    1    20"
            ],
            "text/latex": "A data.frame: 2 × 3\n\\begin{tabular}{r|lll}\n  & idade & Freq & fa\\\\\n  & <fct> & <int> & <int>\\\\\n\\hline\n\t5 & 70 & 3 & 19\\\\\n\t6 & 90 & 1 & 20\\\\\n\\end{tabular}\n",
            "text/markdown": "\nA data.frame: 2 × 3\n\n| <!--/--> | idade &lt;fct&gt; | Freq &lt;int&gt; | fa &lt;int&gt; |\n|---|---|---|---|\n| 5 | 70 | 3 | 19 |\n| 6 | 90 | 1 | 20 |\n\n",
            "text/html": [
              "<table class=\"dataframe\">\n",
              "<caption>A data.frame: 2 × 3</caption>\n",
              "<thead>\n",
              "\t<tr><th></th><th scope=col>idade</th><th scope=col>Freq</th><th scope=col>fa</th></tr>\n",
              "\t<tr><th></th><th scope=col>&lt;fct&gt;</th><th scope=col>&lt;int&gt;</th><th scope=col>&lt;int&gt;</th></tr>\n",
              "</thead>\n",
              "<tbody>\n",
              "\t<tr><th scope=row>5</th><td>70</td><td>3</td><td>19</td></tr>\n",
              "\t<tr><th scope=row>6</th><td>90</td><td>1</td><td>20</td></tr>\n",
              "</tbody>\n",
              "</table>\n"
            ]
          },
          "metadata": {}
        }
      ]
    },
    {
      "cell_type": "code",
      "source": [
        "#Frequência acumulada\n",
        "frequencia_acumulada = cumsum(frequencia_simples)\n",
        "frequencia_acumulada"
      ],
      "metadata": {
        "colab": {
          "base_uri": "https://localhost:8080/",
          "height": 34
        },
        "id": "W_WL9-upApbW",
        "outputId": "5e133720-efd0-4f1c-a08c-1b2b3e4705b2"
      },
      "execution_count": 113,
      "outputs": [
        {
          "output_type": "display_data",
          "data": {
            "text/plain": [
              "10 30 40 50 70 90 \n",
              " 4 11 12 16 19 20 "
            ],
            "text/latex": "\\begin{description*}\n\\item[10] 4\n\\item[30] 11\n\\item[40] 12\n\\item[50] 16\n\\item[70] 19\n\\item[90] 20\n\\end{description*}\n",
            "text/markdown": "10\n:   430\n:   1140\n:   1250\n:   1670\n:   1990\n:   20\n\n",
            "text/html": [
              "<style>\n",
              ".dl-inline {width: auto; margin:0; padding: 0}\n",
              ".dl-inline>dt, .dl-inline>dd {float: none; width: auto; display: inline-block}\n",
              ".dl-inline>dt::after {content: \":\\0020\"; padding-right: .5ex}\n",
              ".dl-inline>dt:not(:first-of-type) {padding-left: .5ex}\n",
              "</style><dl class=dl-inline><dt>10</dt><dd>4</dd><dt>30</dt><dd>11</dd><dt>40</dt><dd>12</dd><dt>50</dt><dd>16</dd><dt>70</dt><dd>19</dd><dt>90</dt><dd>20</dd></dl>\n"
            ]
          },
          "metadata": {}
        }
      ]
    },
    {
      "cell_type": "code",
      "source": [
        "#Adicionando coluna com acumulada\n",
        "dados_simples$fa = frequencia_acumulada\n",
        "dados_simples"
      ],
      "metadata": {
        "colab": {
          "base_uri": "https://localhost:8080/",
          "height": 286
        },
        "id": "vA7XgM36Acud",
        "outputId": "1a49e167-8e38-4b86-daa5-d2c70304eeb3"
      },
      "execution_count": 116,
      "outputs": [
        {
          "output_type": "display_data",
          "data": {
            "text/plain": [
              "  idade Freq fa\n",
              "1 10    4     4\n",
              "2 30    7    11\n",
              "3 40    1    12\n",
              "4 50    4    16\n",
              "5 70    3    19\n",
              "6 90    1    20"
            ],
            "text/latex": "A data.frame: 6 × 3\n\\begin{tabular}{lll}\n idade & Freq & fa\\\\\n <fct> & <int> & <int>\\\\\n\\hline\n\t 10 & 4 &  4\\\\\n\t 30 & 7 & 11\\\\\n\t 40 & 1 & 12\\\\\n\t 50 & 4 & 16\\\\\n\t 70 & 3 & 19\\\\\n\t 90 & 1 & 20\\\\\n\\end{tabular}\n",
            "text/markdown": "\nA data.frame: 6 × 3\n\n| idade &lt;fct&gt; | Freq &lt;int&gt; | fa &lt;int&gt; |\n|---|---|---|\n| 10 | 4 |  4 |\n| 30 | 7 | 11 |\n| 40 | 1 | 12 |\n| 50 | 4 | 16 |\n| 70 | 3 | 19 |\n| 90 | 1 | 20 |\n\n",
            "text/html": [
              "<table class=\"dataframe\">\n",
              "<caption>A data.frame: 6 × 3</caption>\n",
              "<thead>\n",
              "\t<tr><th scope=col>idade</th><th scope=col>Freq</th><th scope=col>fa</th></tr>\n",
              "\t<tr><th scope=col>&lt;fct&gt;</th><th scope=col>&lt;int&gt;</th><th scope=col>&lt;int&gt;</th></tr>\n",
              "</thead>\n",
              "<tbody>\n",
              "\t<tr><td>10</td><td>4</td><td> 4</td></tr>\n",
              "\t<tr><td>30</td><td>7</td><td>11</td></tr>\n",
              "\t<tr><td>40</td><td>1</td><td>12</td></tr>\n",
              "\t<tr><td>50</td><td>4</td><td>16</td></tr>\n",
              "\t<tr><td>70</td><td>3</td><td>19</td></tr>\n",
              "\t<tr><td>90</td><td>1</td><td>20</td></tr>\n",
              "</tbody>\n",
              "</table>\n"
            ]
          },
          "metadata": {}
        }
      ]
    },
    {
      "cell_type": "code",
      "source": [
        "#Frequência relativa simples\n",
        "frequencia_relativa_simples = frequencia_simples / sum(frequencia_simples)\n",
        "frequencia_relativa_simples"
      ],
      "metadata": {
        "colab": {
          "base_uri": "https://localhost:8080/",
          "height": 71
        },
        "id": "lkgkT-KUA14B",
        "outputId": "4a234ba6-90c8-4c53-c839-a6f2abfe3a9d"
      },
      "execution_count": 117,
      "outputs": [
        {
          "output_type": "display_data",
          "data": {
            "text/plain": [
              "idade\n",
              "  10   30   40   50   70   90 \n",
              "0.20 0.35 0.05 0.20 0.15 0.05 "
            ]
          },
          "metadata": {}
        }
      ]
    },
    {
      "cell_type": "code",
      "source": [
        "#Proporção direta entre as fequências (Relativa)\n",
        "prop.table(frequencia_simples)"
      ],
      "metadata": {
        "colab": {
          "base_uri": "https://localhost:8080/",
          "height": 71
        },
        "id": "dDWhbOyEA7lS",
        "outputId": "38694691-e8a1-45d0-f768-c6b0ebe3c5bf"
      },
      "execution_count": 118,
      "outputs": [
        {
          "output_type": "display_data",
          "data": {
            "text/plain": [
              "idade\n",
              "  10   30   40   50   70   90 \n",
              "0.20 0.35 0.05 0.20 0.15 0.05 "
            ]
          },
          "metadata": {}
        }
      ]
    },
    {
      "cell_type": "code",
      "source": [
        "#Adicionando a Frequência relativa simples\n",
        "dados_simples$frs = frequencia_relativa_simples\n",
        "dados_simples"
      ],
      "metadata": {
        "colab": {
          "base_uri": "https://localhost:8080/",
          "height": 286
        },
        "id": "R7QolSyFBCc7",
        "outputId": "fda2f54b-6ee8-498c-872e-493cff050f45"
      },
      "execution_count": 119,
      "outputs": [
        {
          "output_type": "display_data",
          "data": {
            "text/plain": [
              "  idade Freq fa frs \n",
              "1 10    4     4 0.20\n",
              "2 30    7    11 0.35\n",
              "3 40    1    12 0.05\n",
              "4 50    4    16 0.20\n",
              "5 70    3    19 0.15\n",
              "6 90    1    20 0.05"
            ],
            "text/latex": "A data.frame: 6 × 4\n\\begin{tabular}{llll}\n idade & Freq & fa & frs\\\\\n <fct> & <int> & <int> & <table>\\\\\n\\hline\n\t 10 & 4 &  4 & 0.20\\\\\n\t 30 & 7 & 11 & 0.35\\\\\n\t 40 & 1 & 12 & 0.05\\\\\n\t 50 & 4 & 16 & 0.20\\\\\n\t 70 & 3 & 19 & 0.15\\\\\n\t 90 & 1 & 20 & 0.05\\\\\n\\end{tabular}\n",
            "text/markdown": "\nA data.frame: 6 × 4\n\n| idade &lt;fct&gt; | Freq &lt;int&gt; | fa &lt;int&gt; | frs &lt;table&gt; |\n|---|---|---|---|\n| 10 | 4 |  4 | 0.20 |\n| 30 | 7 | 11 | 0.35 |\n| 40 | 1 | 12 | 0.05 |\n| 50 | 4 | 16 | 0.20 |\n| 70 | 3 | 19 | 0.15 |\n| 90 | 1 | 20 | 0.05 |\n\n",
            "text/html": [
              "<table class=\"dataframe\">\n",
              "<caption>A data.frame: 6 × 4</caption>\n",
              "<thead>\n",
              "\t<tr><th scope=col>idade</th><th scope=col>Freq</th><th scope=col>fa</th><th scope=col>frs</th></tr>\n",
              "\t<tr><th scope=col>&lt;fct&gt;</th><th scope=col>&lt;int&gt;</th><th scope=col>&lt;int&gt;</th><th scope=col>&lt;table&gt;</th></tr>\n",
              "</thead>\n",
              "<tbody>\n",
              "\t<tr><td>10</td><td>4</td><td> 4</td><td>0.20</td></tr>\n",
              "\t<tr><td>30</td><td>7</td><td>11</td><td>0.35</td></tr>\n",
              "\t<tr><td>40</td><td>1</td><td>12</td><td>0.05</td></tr>\n",
              "\t<tr><td>50</td><td>4</td><td>16</td><td>0.20</td></tr>\n",
              "\t<tr><td>70</td><td>3</td><td>19</td><td>0.15</td></tr>\n",
              "\t<tr><td>90</td><td>1</td><td>20</td><td>0.05</td></tr>\n",
              "</tbody>\n",
              "</table>\n"
            ]
          },
          "metadata": {}
        }
      ]
    },
    {
      "cell_type": "code",
      "source": [
        "# Frequência relativa acumulada\n",
        "frequencia_relativa_acumulada = frequencia_acumulada / sum(frequencia_simples)\n",
        "frequencia_relativa_acumulada"
      ],
      "metadata": {
        "colab": {
          "base_uri": "https://localhost:8080/",
          "height": 34
        },
        "id": "sG3qcAiPBGxA",
        "outputId": "2427a02e-9225-484c-d5b6-7c8bd38f5a07"
      },
      "execution_count": 120,
      "outputs": [
        {
          "output_type": "display_data",
          "data": {
            "text/plain": [
              "  10   30   40   50   70   90 \n",
              "0.20 0.55 0.60 0.80 0.95 1.00 "
            ],
            "text/latex": "\\begin{description*}\n\\item[10] 0.2\n\\item[30] 0.55\n\\item[40] 0.6\n\\item[50] 0.8\n\\item[70] 0.95\n\\item[90] 1\n\\end{description*}\n",
            "text/markdown": "10\n:   0.230\n:   0.5540\n:   0.650\n:   0.870\n:   0.9590\n:   1\n\n",
            "text/html": [
              "<style>\n",
              ".dl-inline {width: auto; margin:0; padding: 0}\n",
              ".dl-inline>dt, .dl-inline>dd {float: none; width: auto; display: inline-block}\n",
              ".dl-inline>dt::after {content: \":\\0020\"; padding-right: .5ex}\n",
              ".dl-inline>dt:not(:first-of-type) {padding-left: .5ex}\n",
              "</style><dl class=dl-inline><dt>10</dt><dd>0.2</dd><dt>30</dt><dd>0.55</dd><dt>40</dt><dd>0.6</dd><dt>50</dt><dd>0.8</dd><dt>70</dt><dd>0.95</dd><dt>90</dt><dd>1</dd></dl>\n"
            ]
          },
          "metadata": {}
        }
      ]
    },
    {
      "cell_type": "code",
      "source": [
        "#Frequência relativa acumulada(Segunda forma)\n",
        "frequencia_relativa_acumulada = cumsum(frequencia_relativa_simples)\n",
        "frequencia_relativa_acumulada"
      ],
      "metadata": {
        "colab": {
          "base_uri": "https://localhost:8080/",
          "height": 34
        },
        "id": "ppiZc4P9BNV0",
        "outputId": "5a8c47e9-3178-48e6-e455-932d7ea9a563"
      },
      "execution_count": 121,
      "outputs": [
        {
          "output_type": "display_data",
          "data": {
            "text/plain": [
              "  10   30   40   50   70   90 \n",
              "0.20 0.55 0.60 0.80 0.95 1.00 "
            ],
            "text/latex": "\\begin{description*}\n\\item[10] 0.2\n\\item[30] 0.55\n\\item[40] 0.6\n\\item[50] 0.8\n\\item[70] 0.95\n\\item[90] 1\n\\end{description*}\n",
            "text/markdown": "10\n:   0.230\n:   0.5540\n:   0.650\n:   0.870\n:   0.9590\n:   1\n\n",
            "text/html": [
              "<style>\n",
              ".dl-inline {width: auto; margin:0; padding: 0}\n",
              ".dl-inline>dt, .dl-inline>dd {float: none; width: auto; display: inline-block}\n",
              ".dl-inline>dt::after {content: \":\\0020\"; padding-right: .5ex}\n",
              ".dl-inline>dt:not(:first-of-type) {padding-left: .5ex}\n",
              "</style><dl class=dl-inline><dt>10</dt><dd>0.2</dd><dt>30</dt><dd>0.55</dd><dt>40</dt><dd>0.6</dd><dt>50</dt><dd>0.8</dd><dt>70</dt><dd>0.95</dd><dt>90</dt><dd>1</dd></dl>\n"
            ]
          },
          "metadata": {}
        }
      ]
    },
    {
      "cell_type": "code",
      "source": [
        "#Criando a variavel frequencia_relativa_acumulada\n",
        "dados_simples$fra = frequencia_relativa_acumulada\n",
        "dados_simples"
      ],
      "metadata": {
        "colab": {
          "base_uri": "https://localhost:8080/",
          "height": 286
        },
        "id": "XalUdQ5vBVLd",
        "outputId": "df1adf0f-19b8-4948-8846-b79482915c46"
      },
      "execution_count": 122,
      "outputs": [
        {
          "output_type": "display_data",
          "data": {
            "text/plain": [
              "  idade Freq fa frs  fra \n",
              "1 10    4     4 0.20 0.20\n",
              "2 30    7    11 0.35 0.55\n",
              "3 40    1    12 0.05 0.60\n",
              "4 50    4    16 0.20 0.80\n",
              "5 70    3    19 0.15 0.95\n",
              "6 90    1    20 0.05 1.00"
            ],
            "text/latex": "A data.frame: 6 × 5\n\\begin{tabular}{lllll}\n idade & Freq & fa & frs & fra\\\\\n <fct> & <int> & <int> & <table> & <dbl>\\\\\n\\hline\n\t 10 & 4 &  4 & 0.20 & 0.20\\\\\n\t 30 & 7 & 11 & 0.35 & 0.55\\\\\n\t 40 & 1 & 12 & 0.05 & 0.60\\\\\n\t 50 & 4 & 16 & 0.20 & 0.80\\\\\n\t 70 & 3 & 19 & 0.15 & 0.95\\\\\n\t 90 & 1 & 20 & 0.05 & 1.00\\\\\n\\end{tabular}\n",
            "text/markdown": "\nA data.frame: 6 × 5\n\n| idade &lt;fct&gt; | Freq &lt;int&gt; | fa &lt;int&gt; | frs &lt;table&gt; | fra &lt;dbl&gt; |\n|---|---|---|---|---|\n| 10 | 4 |  4 | 0.20 | 0.20 |\n| 30 | 7 | 11 | 0.35 | 0.55 |\n| 40 | 1 | 12 | 0.05 | 0.60 |\n| 50 | 4 | 16 | 0.20 | 0.80 |\n| 70 | 3 | 19 | 0.15 | 0.95 |\n| 90 | 1 | 20 | 0.05 | 1.00 |\n\n",
            "text/html": [
              "<table class=\"dataframe\">\n",
              "<caption>A data.frame: 6 × 5</caption>\n",
              "<thead>\n",
              "\t<tr><th scope=col>idade</th><th scope=col>Freq</th><th scope=col>fa</th><th scope=col>frs</th><th scope=col>fra</th></tr>\n",
              "\t<tr><th scope=col>&lt;fct&gt;</th><th scope=col>&lt;int&gt;</th><th scope=col>&lt;int&gt;</th><th scope=col>&lt;table&gt;</th><th scope=col>&lt;dbl&gt;</th></tr>\n",
              "</thead>\n",
              "<tbody>\n",
              "\t<tr><td>10</td><td>4</td><td> 4</td><td>0.20</td><td>0.20</td></tr>\n",
              "\t<tr><td>30</td><td>7</td><td>11</td><td>0.35</td><td>0.55</td></tr>\n",
              "\t<tr><td>40</td><td>1</td><td>12</td><td>0.05</td><td>0.60</td></tr>\n",
              "\t<tr><td>50</td><td>4</td><td>16</td><td>0.20</td><td>0.80</td></tr>\n",
              "\t<tr><td>70</td><td>3</td><td>19</td><td>0.15</td><td>0.95</td></tr>\n",
              "\t<tr><td>90</td><td>1</td><td>20</td><td>0.05</td><td>1.00</td></tr>\n",
              "</tbody>\n",
              "</table>\n"
            ]
          },
          "metadata": {}
        }
      ]
    },
    {
      "cell_type": "markdown",
      "source": [
        "## Explicando as vantagens do pipe\n",
        "**BASE FOG**<br>\n",
        "\n",
        "$f(g(x))$ <br>\n",
        "\n",
        "```\n",
        "funçao_3 ( funçao_2( funçao_1( head( dadossimples ))))\n",
        "```\n",
        "\n",
        "\n",
        "**TIDYVERSE GOF**<br>\n",
        "$g(f(x))$<br>\n",
        "\n",
        "```\n",
        "dadossimples %>% head() %>% funcao_1() %>% funcao_2() %>% funcao_3()\n",
        "```\n",
        "\n"
      ],
      "metadata": {
        "id": "SisisqqLCKUY"
      }
    },
    {
      "cell_type": "markdown",
      "source": [
        "### Habilitando o Pipe\n"
      ],
      "metadata": {
        "id": "dUEqtIVUEO-a"
      }
    },
    {
      "cell_type": "code",
      "source": [
        "install.packages(\"dplyr\",lib='/usr/lib/R/library')\n",
        "library(dplyr)"
      ],
      "metadata": {
        "colab": {
          "base_uri": "https://localhost:8080/"
        },
        "id": "bgSarWzUBunY",
        "outputId": "868248e6-d8c4-4699-d4dc-cf2bae44653e"
      },
      "execution_count": 97,
      "outputs": [
        {
          "output_type": "stream",
          "name": "stderr",
          "text": [
            "Updating HTML index of packages in '.Library'\n",
            "\n",
            "Making 'packages.html' ...\n",
            " done\n",
            "\n"
          ]
        }
      ]
    },
    {
      "cell_type": "code",
      "source": [
        "#Calcular usando a lib mutate\n",
        "dados_simples_tidy = dados_simples %>% mutate(\n",
        "    frequencia_acumulada = cumsum(Freq),\n",
        "    frequencia_relativa_simples = Freq / sum(Freq),\n",
        "    frequencia_relativa_acumulada = cumsum(frequencia_relativa_simples)\n",
        "  )\n",
        "\n",
        "dados_simples_tidy"
      ],
      "metadata": {
        "colab": {
          "base_uri": "https://localhost:8080/",
          "height": 286
        },
        "id": "nc8aObwXEOTZ",
        "outputId": "2149faaf-3638-4b78-80c8-4a0bb87ee67b"
      },
      "execution_count": 136,
      "outputs": [
        {
          "output_type": "display_data",
          "data": {
            "text/plain": [
              "  idade Freq fa frs  fra  frequencia_acumulada frequencia_relativa_simples\n",
              "1 10    4     4 0.20 0.20  4                   0.20                       \n",
              "2 30    7    11 0.35 0.55 11                   0.35                       \n",
              "3 40    1    12 0.05 0.60 12                   0.05                       \n",
              "4 50    4    16 0.20 0.80 16                   0.20                       \n",
              "5 70    3    19 0.15 0.95 19                   0.15                       \n",
              "6 90    1    20 0.05 1.00 20                   0.05                       \n",
              "  frequencia_relativa_acumulada\n",
              "1 0.20                         \n",
              "2 0.55                         \n",
              "3 0.60                         \n",
              "4 0.80                         \n",
              "5 0.95                         \n",
              "6 1.00                         "
            ],
            "text/latex": "A data.frame: 6 × 8\n\\begin{tabular}{llllllll}\n idade & Freq & fa & frs & fra & frequencia\\_acumulada & frequencia\\_relativa\\_simples & frequencia\\_relativa\\_acumulada\\\\\n <fct> & <int> & <int> & <table> & <dbl> & <int> & <dbl> & <dbl>\\\\\n\\hline\n\t 10 & 4 &  4 & 0.20 & 0.20 &  4 & 0.20 & 0.20\\\\\n\t 30 & 7 & 11 & 0.35 & 0.55 & 11 & 0.35 & 0.55\\\\\n\t 40 & 1 & 12 & 0.05 & 0.60 & 12 & 0.05 & 0.60\\\\\n\t 50 & 4 & 16 & 0.20 & 0.80 & 16 & 0.20 & 0.80\\\\\n\t 70 & 3 & 19 & 0.15 & 0.95 & 19 & 0.15 & 0.95\\\\\n\t 90 & 1 & 20 & 0.05 & 1.00 & 20 & 0.05 & 1.00\\\\\n\\end{tabular}\n",
            "text/markdown": "\nA data.frame: 6 × 8\n\n| idade &lt;fct&gt; | Freq &lt;int&gt; | fa &lt;int&gt; | frs &lt;table&gt; | fra &lt;dbl&gt; | frequencia_acumulada &lt;int&gt; | frequencia_relativa_simples &lt;dbl&gt; | frequencia_relativa_acumulada &lt;dbl&gt; |\n|---|---|---|---|---|---|---|---|\n| 10 | 4 |  4 | 0.20 | 0.20 |  4 | 0.20 | 0.20 |\n| 30 | 7 | 11 | 0.35 | 0.55 | 11 | 0.35 | 0.55 |\n| 40 | 1 | 12 | 0.05 | 0.60 | 12 | 0.05 | 0.60 |\n| 50 | 4 | 16 | 0.20 | 0.80 | 16 | 0.20 | 0.80 |\n| 70 | 3 | 19 | 0.15 | 0.95 | 19 | 0.15 | 0.95 |\n| 90 | 1 | 20 | 0.05 | 1.00 | 20 | 0.05 | 1.00 |\n\n",
            "text/html": [
              "<table class=\"dataframe\">\n",
              "<caption>A data.frame: 6 × 8</caption>\n",
              "<thead>\n",
              "\t<tr><th scope=col>idade</th><th scope=col>Freq</th><th scope=col>fa</th><th scope=col>frs</th><th scope=col>fra</th><th scope=col>frequencia_acumulada</th><th scope=col>frequencia_relativa_simples</th><th scope=col>frequencia_relativa_acumulada</th></tr>\n",
              "\t<tr><th scope=col>&lt;fct&gt;</th><th scope=col>&lt;int&gt;</th><th scope=col>&lt;int&gt;</th><th scope=col>&lt;table&gt;</th><th scope=col>&lt;dbl&gt;</th><th scope=col>&lt;int&gt;</th><th scope=col>&lt;dbl&gt;</th><th scope=col>&lt;dbl&gt;</th></tr>\n",
              "</thead>\n",
              "<tbody>\n",
              "\t<tr><td>10</td><td>4</td><td> 4</td><td>0.20</td><td>0.20</td><td> 4</td><td>0.20</td><td>0.20</td></tr>\n",
              "\t<tr><td>30</td><td>7</td><td>11</td><td>0.35</td><td>0.55</td><td>11</td><td>0.35</td><td>0.55</td></tr>\n",
              "\t<tr><td>40</td><td>1</td><td>12</td><td>0.05</td><td>0.60</td><td>12</td><td>0.05</td><td>0.60</td></tr>\n",
              "\t<tr><td>50</td><td>4</td><td>16</td><td>0.20</td><td>0.80</td><td>16</td><td>0.20</td><td>0.80</td></tr>\n",
              "\t<tr><td>70</td><td>3</td><td>19</td><td>0.15</td><td>0.95</td><td>19</td><td>0.15</td><td>0.95</td></tr>\n",
              "\t<tr><td>90</td><td>1</td><td>20</td><td>0.05</td><td>1.00</td><td>20</td><td>0.05</td><td>1.00</td></tr>\n",
              "</tbody>\n",
              "</table>\n"
            ]
          },
          "metadata": {}
        }
      ]
    },
    {
      "cell_type": "code",
      "source": [
        "#Dropar coluna\n",
        "dados_simples_tidy = dados_simples_tidy[,-(6:8),drop=FALSE]\n",
        "dados_simples_tidy"
      ],
      "metadata": {
        "colab": {
          "base_uri": "https://localhost:8080/",
          "height": 286
        },
        "id": "JjBuZivrJKEo",
        "outputId": "aaa7080f-0b91-46ec-821f-69d312514a56"
      },
      "execution_count": 144,
      "outputs": [
        {
          "output_type": "display_data",
          "data": {
            "text/plain": [
              "  idade Freq fa frs  fra \n",
              "1 10    4     4 0.20 0.20\n",
              "2 30    7    11 0.35 0.55\n",
              "3 40    1    12 0.05 0.60\n",
              "4 50    4    16 0.20 0.80\n",
              "5 70    3    19 0.15 0.95\n",
              "6 90    1    20 0.05 1.00"
            ],
            "text/latex": "A data.frame: 6 × 5\n\\begin{tabular}{lllll}\n idade & Freq & fa & frs & fra\\\\\n <fct> & <int> & <int> & <table> & <dbl>\\\\\n\\hline\n\t 10 & 4 &  4 & 0.20 & 0.20\\\\\n\t 30 & 7 & 11 & 0.35 & 0.55\\\\\n\t 40 & 1 & 12 & 0.05 & 0.60\\\\\n\t 50 & 4 & 16 & 0.20 & 0.80\\\\\n\t 70 & 3 & 19 & 0.15 & 0.95\\\\\n\t 90 & 1 & 20 & 0.05 & 1.00\\\\\n\\end{tabular}\n",
            "text/markdown": "\nA data.frame: 6 × 5\n\n| idade &lt;fct&gt; | Freq &lt;int&gt; | fa &lt;int&gt; | frs &lt;table&gt; | fra &lt;dbl&gt; |\n|---|---|---|---|---|\n| 10 | 4 |  4 | 0.20 | 0.20 |\n| 30 | 7 | 11 | 0.35 | 0.55 |\n| 40 | 1 | 12 | 0.05 | 0.60 |\n| 50 | 4 | 16 | 0.20 | 0.80 |\n| 70 | 3 | 19 | 0.15 | 0.95 |\n| 90 | 1 | 20 | 0.05 | 1.00 |\n\n",
            "text/html": [
              "<table class=\"dataframe\">\n",
              "<caption>A data.frame: 6 × 5</caption>\n",
              "<thead>\n",
              "\t<tr><th scope=col>idade</th><th scope=col>Freq</th><th scope=col>fa</th><th scope=col>frs</th><th scope=col>fra</th></tr>\n",
              "\t<tr><th scope=col>&lt;fct&gt;</th><th scope=col>&lt;int&gt;</th><th scope=col>&lt;int&gt;</th><th scope=col>&lt;table&gt;</th><th scope=col>&lt;dbl&gt;</th></tr>\n",
              "</thead>\n",
              "<tbody>\n",
              "\t<tr><td>10</td><td>4</td><td> 4</td><td>0.20</td><td>0.20</td></tr>\n",
              "\t<tr><td>30</td><td>7</td><td>11</td><td>0.35</td><td>0.55</td></tr>\n",
              "\t<tr><td>40</td><td>1</td><td>12</td><td>0.05</td><td>0.60</td></tr>\n",
              "\t<tr><td>50</td><td>4</td><td>16</td><td>0.20</td><td>0.80</td></tr>\n",
              "\t<tr><td>70</td><td>3</td><td>19</td><td>0.15</td><td>0.95</td></tr>\n",
              "\t<tr><td>90</td><td>1</td><td>20</td><td>0.05</td><td>1.00</td></tr>\n",
              "</tbody>\n",
              "</table>\n"
            ]
          },
          "metadata": {}
        }
      ]
    },
    {
      "cell_type": "code",
      "source": [
        "#Mudar nome de coluna\n",
        "names(dados_simples_tidy)[1] = 'IDADE'"
      ],
      "metadata": {
        "id": "t5uwbr5WNspE"
      },
      "execution_count": 147,
      "outputs": []
    },
    {
      "cell_type": "code",
      "source": [
        "#Dados simples ordenados\n",
        "dados_simples_ordenado = dados_simples_tidy %>% arrange(desc(Freq))\n",
        "dados_simples_ordenado"
      ],
      "metadata": {
        "colab": {
          "base_uri": "https://localhost:8080/",
          "height": 286
        },
        "id": "zMlLDmYiGIDH",
        "outputId": "1bf4959d-e18b-4ab0-9d8e-09d729626eef"
      },
      "execution_count": 146,
      "outputs": [
        {
          "output_type": "display_data",
          "data": {
            "text/plain": [
              "  IDADE Freq fa frs  fra \n",
              "1 30    7    11 0.35 0.55\n",
              "2 10    4     4 0.20 0.20\n",
              "3 50    4    16 0.20 0.80\n",
              "4 70    3    19 0.15 0.95\n",
              "5 40    1    12 0.05 0.60\n",
              "6 90    1    20 0.05 1.00"
            ],
            "text/latex": "A data.frame: 6 × 5\n\\begin{tabular}{lllll}\n IDADE & Freq & fa & frs & fra\\\\\n <fct> & <int> & <int> & <table> & <dbl>\\\\\n\\hline\n\t 30 & 7 & 11 & 0.35 & 0.55\\\\\n\t 10 & 4 &  4 & 0.20 & 0.20\\\\\n\t 50 & 4 & 16 & 0.20 & 0.80\\\\\n\t 70 & 3 & 19 & 0.15 & 0.95\\\\\n\t 40 & 1 & 12 & 0.05 & 0.60\\\\\n\t 90 & 1 & 20 & 0.05 & 1.00\\\\\n\\end{tabular}\n",
            "text/markdown": "\nA data.frame: 6 × 5\n\n| IDADE &lt;fct&gt; | Freq &lt;int&gt; | fa &lt;int&gt; | frs &lt;table&gt; | fra &lt;dbl&gt; |\n|---|---|---|---|---|\n| 30 | 7 | 11 | 0.35 | 0.55 |\n| 10 | 4 |  4 | 0.20 | 0.20 |\n| 50 | 4 | 16 | 0.20 | 0.80 |\n| 70 | 3 | 19 | 0.15 | 0.95 |\n| 40 | 1 | 12 | 0.05 | 0.60 |\n| 90 | 1 | 20 | 0.05 | 1.00 |\n\n",
            "text/html": [
              "<table class=\"dataframe\">\n",
              "<caption>A data.frame: 6 × 5</caption>\n",
              "<thead>\n",
              "\t<tr><th scope=col>IDADE</th><th scope=col>Freq</th><th scope=col>fa</th><th scope=col>frs</th><th scope=col>fra</th></tr>\n",
              "\t<tr><th scope=col>&lt;fct&gt;</th><th scope=col>&lt;int&gt;</th><th scope=col>&lt;int&gt;</th><th scope=col>&lt;table&gt;</th><th scope=col>&lt;dbl&gt;</th></tr>\n",
              "</thead>\n",
              "<tbody>\n",
              "\t<tr><td>30</td><td>7</td><td>11</td><td>0.35</td><td>0.55</td></tr>\n",
              "\t<tr><td>10</td><td>4</td><td> 4</td><td>0.20</td><td>0.20</td></tr>\n",
              "\t<tr><td>50</td><td>4</td><td>16</td><td>0.20</td><td>0.80</td></tr>\n",
              "\t<tr><td>70</td><td>3</td><td>19</td><td>0.15</td><td>0.95</td></tr>\n",
              "\t<tr><td>40</td><td>1</td><td>12</td><td>0.05</td><td>0.60</td></tr>\n",
              "\t<tr><td>90</td><td>1</td><td>20</td><td>0.05</td><td>1.00</td></tr>\n",
              "</tbody>\n",
              "</table>\n"
            ]
          },
          "metadata": {}
        }
      ]
    },
    {
      "cell_type": "code",
      "source": [
        "#Exportar como CSV\n",
        "write.csv2(dados_simples_tidy, \"/content/dados_simples.csv\", row.names = F)"
      ],
      "metadata": {
        "id": "8cPN8USLGIRI"
      },
      "execution_count": 152,
      "outputs": []
    }
  ]
}