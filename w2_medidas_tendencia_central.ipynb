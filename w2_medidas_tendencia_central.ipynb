{
  "nbformat": 4,
  "nbformat_minor": 0,
  "metadata": {
    "colab": {
      "name": "w2_medidas_tendencia_central.ipynb",
      "provenance": [],
      "collapsed_sections": [],
      "machine_shape": "hm"
    },
    "kernelspec": {
      "name": "ir",
      "display_name": "R"
    },
    "language_info": {
      "name": "R"
    },
    "accelerator": "TPU"
  },
  "cells": [
    {
      "cell_type": "markdown",
      "source": [
        "<img src=\"https://bsbr.com.br/wp-content/uploads/2018/05/01_logo-bsbr-padrao-med.png\" width=\"200\"/>\n",
        "\n",
        "**by: [João Ataíde](https://www.joaoataide.com/)**\n",
        "___"
      ],
      "metadata": {
        "id": "3VQDRB_-iJhz"
      }
    },
    {
      "cell_type": "markdown",
      "source": [
        "# **WEEK 3 - ESTATÍSTICA BÁSICA: MEDIDAS DE TENDÊNCIA CENTRAL**\n",
        "**Instituto Business School Brasil <br>\n",
        "MBA Pesquisa Operacional e Tomada de Decisão<br>\n",
        "Disciplina de Estatítica <br>\n",
        "Prof. Thiago Marques <br>**"
      ],
      "metadata": {
        "id": "-FiVHvqPjX3w"
      }
    },
    {
      "cell_type": "markdown",
      "source": [
        "<img src=\"https://encrypted-tbn0.gstatic.com/images?q=tbn:ANd9GcRhKXLrhVnS_qPf92p5eUKlKCJfvbZM7xLSBA&usqp=CAU\" width=\"50\"/>\n",
        "\n",
        "## **PRÁTICA EM R**\n"
      ],
      "metadata": {
        "id": "TZRzVUDG5BCU"
      }
    },
    {
      "cell_type": "code",
      "source": [
        "# Evitando notação científica\n",
        "options(scipen=999)"
      ],
      "metadata": {
        "id": "QFLRBqVWZzkB"
      },
      "execution_count": 4,
      "outputs": []
    },
    {
      "cell_type": "code",
      "source": [
        "# Instalando e carregando Biblioteca que calcula Moda, Assimetria e Curtose no R\n",
        "\n",
        "#install.packages(\"devtools\")\n",
        "#install_github(\"juba/rmdformats\",force=TRUE)\n",
        "#install_github(\"glin/reactable\",force=TRUE)\n",
        "\n",
        "vetor_pacotes=c(\n",
        "                \"rmdformats\", #Layout em Formato de tópicos\n",
        "                \"reactable\",  #Deixa tema de dia ou noturno\n",
        "                \"dplyr\",      #Habilita manipulação de dados no R e o operador pipe\n",
        "                \"e1071\",      #Habilita o cálculo de assimetria e curtose no R\n",
        "                \"DescTools\",  #Habilita a função Mode() para calcular a moda\n",
        "                \"Hmisc\",      #Habilita o describe para resumos estatísticos\n",
        "                \"embed\",\n",
        "                \"devtools\",\n",
        "                \"vembedr\"\n",
        "                )\n",
        "\n",
        "\n",
        "install.packages(vetor_pacotes, lib='/usr/lib/R/library')"
      ],
      "metadata": {
        "id": "we4uny5iZzmn"
      },
      "execution_count": null,
      "outputs": []
    },
    {
      "cell_type": "code",
      "source": [
        "#importar libs\n",
        "lapply(vetor_pacotes, \n",
        "       require, \n",
        "       character.only = TRUE)"
      ],
      "metadata": {
        "id": "71GgHcBMbe24"
      },
      "execution_count": null,
      "outputs": []
    },
    {
      "cell_type": "code",
      "source": [
        "# Importar Video do youtube\n",
        "library(vembedr) #embedar o vídeo do youtube\n",
        "embed_youtube(\"2Y5F4-sg8K4\")"
      ],
      "metadata": {
        "colab": {
          "base_uri": "https://localhost:8080/",
          "height": 330
        },
        "id": "ck_bI87EZW3G",
        "outputId": "51bbb326-b697-4f83-add5-e38d95a670e7"
      },
      "execution_count": 3,
      "outputs": [
        {
          "output_type": "display_data",
          "data": {
            "text/plain": [
              "Shiny tags cannot be represented in plain text (need html)"
            ],
            "text/html": [
              "<!doctype html>\n",
              "<html>\n",
              "\t<head>\n",
              "\t\t<meta charset=\"utf-8\">\n",
              "\t\t<link href=\"data:text/css;charset-utf-8;base64,LnZlbWJlZHIgewogIG1hcmdpbi1ib3R0b206IDEwcHg7Cn0KCi52ZW1iZWRyLXJvdW5kZWQgewogIGRpc3BsYXk6IGlubGluZS1ibG9jazsKICBib3JkZXItcmFkaXVzOiAxNXB4OwogIG92ZXJmbG93OiBoaWRkZW47Cn0KCi52ZW1iZWRyLXJvdW5kZWQgaWZyYW1lIHsKICBkaXNwbGF5OiBibG9jazsKICBib3JkZXI6IG5vbmU7Cn0K\" rel=\"stylesheet\" />\n",
              "\t</head>\n",
              "\t<body>\n",
              "\t\t<div class=\"vembedr\">\n",
              "  <div>\n",
              "    <iframe src=\"https://www.youtube.com/embed/2Y5F4-sg8K4\" width=\"533\" height=\"300\" frameborder=\"0\" allowfullscreen=\"\" data-external=\"1\"></iframe>\n",
              "  </div>\n",
              "</div>\n",
              "\t</body>\n",
              "</html>\n"
            ]
          },
          "metadata": {
            "text/html": {
              "isolated": true
            }
          }
        }
      ]
    },
    {
      "cell_type": "code",
      "source": [
        "# Amostra Empresa A\n",
        "a = c(2000, 3000, 4000, 9000, 4000)\n",
        "desvio1 = 2000 - 4500\n",
        "desvio2 = 3000 - 4500\n",
        "desvio3 = 4000 - 4500\n",
        "desvio4 = 9000 - 4500\n",
        "\n",
        "soma_desvios_media = sum(desvio1, desvio2, desvio3, desvio4)\n",
        "soma_desvios_media"
      ],
      "metadata": {
        "colab": {
          "base_uri": "https://localhost:8080/",
          "height": 34
        },
        "id": "anKp5JY2Z5Vb",
        "outputId": "9522b434-8284-4445-f990-c2c68e653001"
      },
      "execution_count": 13,
      "outputs": [
        {
          "output_type": "display_data",
          "data": {
            "text/plain": [
              "[1] 0"
            ],
            "text/latex": "0",
            "text/markdown": "0",
            "text/html": [
              "0"
            ]
          },
          "metadata": {}
        }
      ]
    },
    {
      "cell_type": "code",
      "source": [
        "# Média, mediana, moda e Resumos empresa A\n",
        "media_a = mean(a)\n",
        "mediana_a = median(a)\n",
        "cbind(media_a, mediana_a)"
      ],
      "metadata": {
        "colab": {
          "base_uri": "https://localhost:8080/",
          "height": 115
        },
        "id": "skNYXIrtZ5X4",
        "outputId": "2f26f1e6-473c-48f3-8d0f-48e902ab437f"
      },
      "execution_count": 14,
      "outputs": [
        {
          "output_type": "display_data",
          "data": {
            "text/plain": [
              "     media_a mediana_a\n",
              "[1,] 4400    4000     "
            ],
            "text/latex": "A matrix: 1 × 2 of type dbl\n\\begin{tabular}{ll}\n media\\_a & mediana\\_a\\\\\n\\hline\n\t 4400 & 4000\\\\\n\\end{tabular}\n",
            "text/markdown": "\nA matrix: 1 × 2 of type dbl\n\n| media_a | mediana_a |\n|---|---|\n| 4400 | 4000 |\n\n",
            "text/html": [
              "<table class=\"dataframe\">\n",
              "<caption>A matrix: 1 × 2 of type dbl</caption>\n",
              "<thead>\n",
              "\t<tr><th scope=col>media_a</th><th scope=col>mediana_a</th></tr>\n",
              "</thead>\n",
              "<tbody>\n",
              "\t<tr><td>4400</td><td>4000</td></tr>\n",
              "</tbody>\n",
              "</table>\n"
            ]
          },
          "metadata": {}
        }
      ]
    },
    {
      "cell_type": "code",
      "source": [
        "#Calculando Moda\n",
        "moda_a = DescTools::Mode(a)\n",
        "cbind(media_a, mediana_a, moda_a)"
      ],
      "metadata": {
        "colab": {
          "base_uri": "https://localhost:8080/",
          "height": 98
        },
        "id": "OXyU5jpNIy7Q",
        "outputId": "a4285e3a-2f21-4769-8fc5-82ec80a6d034"
      },
      "execution_count": 16,
      "outputs": [
        {
          "output_type": "display_data",
          "data": {
            "text/plain": [
              "     media_a mediana_a moda_a\n",
              "[1,] 4400    4000      4000  "
            ],
            "text/latex": "A matrix: 1 × 3 of type dbl\n\\begin{tabular}{lll}\n media\\_a & mediana\\_a & moda\\_a\\\\\n\\hline\n\t 4400 & 4000 & 4000\\\\\n\\end{tabular}\n",
            "text/markdown": "\nA matrix: 1 × 3 of type dbl\n\n| media_a | mediana_a | moda_a |\n|---|---|---|\n| 4400 | 4000 | 4000 |\n\n",
            "text/html": [
              "<table class=\"dataframe\">\n",
              "<caption>A matrix: 1 × 3 of type dbl</caption>\n",
              "<thead>\n",
              "\t<tr><th scope=col>media_a</th><th scope=col>mediana_a</th><th scope=col>moda_a</th></tr>\n",
              "</thead>\n",
              "<tbody>\n",
              "\t<tr><td>4400</td><td>4000</td><td>4000</td></tr>\n",
              "</tbody>\n",
              "</table>\n"
            ]
          },
          "metadata": {}
        }
      ]
    },
    {
      "cell_type": "code",
      "source": [
        "# Resumo estatístico\n",
        "summary(a)"
      ],
      "metadata": {
        "colab": {
          "base_uri": "https://localhost:8080/",
          "height": 54
        },
        "id": "rbHCxHF1Z5aj",
        "outputId": "99b521f0-5037-488c-c891-daf70cd5f36f"
      },
      "execution_count": 21,
      "outputs": [
        {
          "output_type": "display_data",
          "data": {
            "text/plain": [
              "   Min. 1st Qu.  Median    Mean 3rd Qu.    Max. \n",
              "   2000    3000    4000    4400    4000    9000 "
            ]
          },
          "metadata": {}
        }
      ]
    },
    {
      "cell_type": "code",
      "source": [
        "#Descrições\n",
        "Hmisc::describe(a)"
      ],
      "metadata": {
        "colab": {
          "base_uri": "https://localhost:8080/",
          "height": 144
        },
        "id": "TzKjDWbHJAlf",
        "outputId": "d874be02-3a70-4fda-a2a1-12fb9ecd46f0"
      },
      "execution_count": 20,
      "outputs": [
        {
          "output_type": "display_data",
          "data": {
            "text/plain": [
              "a \n",
              "       n  missing distinct     Info     Mean      Gmd \n",
              "       5        0        4     0.95     4400     3000 \n",
              "                              \n",
              "Value      2000 3000 4000 9000\n",
              "Frequency     1    1    2    1\n",
              "Proportion  0.2  0.2  0.4  0.2"
            ]
          },
          "metadata": {}
        }
      ]
    },
    {
      "cell_type": "code",
      "source": [
        "help(par)"
      ],
      "metadata": {
        "id": "DNBBuZB2KgIb"
      },
      "execution_count": 33,
      "outputs": []
    },
    {
      "cell_type": "code",
      "source": [
        "# Comparando Graficamente\n",
        "#Divisão de janelas\n",
        "par(mfrow = c(2,1))\n",
        "\n",
        "#Histograma com as frequências simples\n",
        "hist(a)\n",
        "\n",
        "#Histograma com as densidades\n",
        "hist(a, probability = T)\n",
        "\n",
        "#Curva de densidade\n",
        "lines(density(a))\n"
      ],
      "metadata": {
        "colab": {
          "base_uri": "https://localhost:8080/",
          "height": 437
        },
        "id": "3M12Q-RNZ_Zy",
        "outputId": "e7586ced-9972-4dd9-bd7c-4ca0a290ed8b"
      },
      "execution_count": 48,
      "outputs": [
        {
          "output_type": "display_data",
          "data": {
            "image/png": "[encoded data removed]",
            "text/plain": [
              "Plot with title “Histogram of a”"
            ]
          },
          "metadata": {
            "image/png": {
              "width": 420,
              "height": 420
            }
          }
        }
      ]
    },
    {
      "cell_type": "code",
      "source": [
        "# Assimetria e Curtose\n",
        "#Coeficiente de assimetria de pearson\n",
        "assimetria_a = skewness(a)\n",
        "\n",
        "#Coeficiente de curtose de pearson\n",
        "curtose_a=kurtosis(a)\n",
        "cbind(assimetria_a,curtose_a)"
      ],
      "metadata": {
        "colab": {
          "base_uri": "https://localhost:8080/",
          "height": 98
        },
        "id": "9NAhVrEdZ_cZ",
        "outputId": "60300e8d-6195-4ff3-e095-d51c6e50b082"
      },
      "execution_count": 49,
      "outputs": [
        {
          "output_type": "display_data",
          "data": {
            "text/plain": [
              "     assimetria_a curtose_a\n",
              "[1,] 0.8177042    -1.180462"
            ],
            "text/latex": "A matrix: 1 × 2 of type dbl\n\\begin{tabular}{ll}\n assimetria\\_a & curtose\\_a\\\\\n\\hline\n\t 0.8177042 & -1.180462\\\\\n\\end{tabular}\n",
            "text/markdown": "\nA matrix: 1 × 2 of type dbl\n\n| assimetria_a | curtose_a |\n|---|---|\n| 0.8177042 | -1.180462 |\n\n",
            "text/html": [
              "<table class=\"dataframe\">\n",
              "<caption>A matrix: 1 × 2 of type dbl</caption>\n",
              "<thead>\n",
              "\t<tr><th scope=col>assimetria_a</th><th scope=col>curtose_a</th></tr>\n",
              "</thead>\n",
              "<tbody>\n",
              "\t<tr><td>0.8177042</td><td>-1.180462</td></tr>\n",
              "</tbody>\n",
              "</table>\n"
            ]
          },
          "metadata": {}
        }
      ]
    },
    {
      "cell_type": "code",
      "source": [
        "# Consolidando as Estatísticas resumo\n",
        "dados_a_consolidados = data.frame(\n",
        "  \"moda\" = moda_a,\n",
        "  \"mediana\" = mediana_a,\n",
        "  \"media\" = media_a,\n",
        "  \"assimetria\" = assimetria_a,\n",
        "  \"curtose\" = curtose_a\n",
        "  )"
      ],
      "metadata": {
        "id": "iPBj1EmDZ_fA"
      },
      "execution_count": 50,
      "outputs": []
    },
    {
      "cell_type": "code",
      "source": [
        "# #Amostra Empresa B\n",
        "b=c(2000,3000,3000,3000,3000,3000,4000,7000,9000)"
      ],
      "metadata": {
        "id": "VHPBKetAaFUm"
      },
      "execution_count": 51,
      "outputs": []
    },
    {
      "cell_type": "code",
      "source": [
        "# Média, mediana, moda e Resumos empresa B\n",
        "media_b = mean(b)\n",
        "mediana_b = median(b)\n",
        "\n",
        "moda_b = DescTools::Mode(b)\n",
        "cbind(media_b,mediana_b,moda_b)"
      ],
      "metadata": {
        "colab": {
          "base_uri": "https://localhost:8080/",
          "height": 98
        },
        "id": "cQhHtwYIaFXT",
        "outputId": "c59383f0-d66d-4d62-dc4c-f534ce7e3f71"
      },
      "execution_count": 52,
      "outputs": [
        {
          "output_type": "display_data",
          "data": {
            "text/plain": [
              "     media_b  mediana_b moda_b\n",
              "[1,] 4111.111 3000      3000  "
            ],
            "text/latex": "A matrix: 1 × 3 of type dbl\n\\begin{tabular}{lll}\n media\\_b & mediana\\_b & moda\\_b\\\\\n\\hline\n\t 4111.111 & 3000 & 3000\\\\\n\\end{tabular}\n",
            "text/markdown": "\nA matrix: 1 × 3 of type dbl\n\n| media_b | mediana_b | moda_b |\n|---|---|---|\n| 4111.111 | 3000 | 3000 |\n\n",
            "text/html": [
              "<table class=\"dataframe\">\n",
              "<caption>A matrix: 1 × 3 of type dbl</caption>\n",
              "<thead>\n",
              "\t<tr><th scope=col>media_b</th><th scope=col>mediana_b</th><th scope=col>moda_b</th></tr>\n",
              "</thead>\n",
              "<tbody>\n",
              "\t<tr><td>4111.111</td><td>3000</td><td>3000</td></tr>\n",
              "</tbody>\n",
              "</table>\n"
            ]
          },
          "metadata": {}
        }
      ]
    },
    {
      "cell_type": "code",
      "source": [
        "# Resumos gerais empresa B\n",
        "summary(b)"
      ],
      "metadata": {
        "colab": {
          "base_uri": "https://localhost:8080/",
          "height": 54
        },
        "id": "lUbIReuqaFZ5",
        "outputId": "1d1b98f0-a55a-430e-fe97-ba56760132cc"
      },
      "execution_count": 53,
      "outputs": [
        {
          "output_type": "display_data",
          "data": {
            "text/plain": [
              "   Min. 1st Qu.  Median    Mean 3rd Qu.    Max. \n",
              "   2000    3000    3000    4111    4000    9000 "
            ]
          },
          "metadata": {}
        }
      ]
    },
    {
      "cell_type": "code",
      "source": [
        "Hmisc::describe(b)"
      ],
      "metadata": {
        "colab": {
          "base_uri": "https://localhost:8080/",
          "height": 180
        },
        "id": "sUTG87YiLi_q",
        "outputId": "a613453a-1cf6-4675-827f-ab153395b969"
      },
      "execution_count": 54,
      "outputs": [
        {
          "output_type": "display_data",
          "data": {
            "text/plain": [
              "b \n",
              "       n  missing distinct     Info     Mean      Gmd \n",
              "       9        0        5    0.833     4111     2333 \n",
              "\n",
              "lowest : 2000 3000 4000 7000 9000, highest: 2000 3000 4000 7000 9000\n",
              "                                        \n",
              "Value       2000  3000  4000  7000  9000\n",
              "Frequency      1     5     1     1     1\n",
              "Proportion 0.111 0.556 0.111 0.111 0.111"
            ]
          },
          "metadata": {}
        }
      ]
    },
    {
      "cell_type": "code",
      "source": [
        "# Comparando Graficamente\n",
        "#Divisão de janelas\n",
        "par(mfrow = c(2, 1))\n",
        "\n",
        "#Histograma com as frequências simples\n",
        "hist(b)\n",
        "\n",
        "#Histograma com as densidades\n",
        "hist(b, probability = T)\n",
        "\n",
        "#Curva de densidade\n",
        "lines(density(b))"
      ],
      "metadata": {
        "colab": {
          "base_uri": "https://localhost:8080/",
          "height": 437
        },
        "id": "zKgcXMsnaFcR",
        "outputId": "dedfc2ec-1e63-4f16-fdec-b8f15685db7a"
      },
      "execution_count": 55,
      "outputs": [
        {
          "output_type": "display_data",
          "data": {
            "image/png": "[encoded data removed]",
            "text/plain": [
              "Plot with title “Histogram of b”"
            ]
          },
          "metadata": {
            "image/png": {
              "width": 420,
              "height": 420
            }
          }
        }
      ]
    },
    {
      "cell_type": "code",
      "source": [
        "# Assimetria e Curtose\n",
        "#Coeficiente de assimetria de pearson\n",
        "assimetria_b = skewness(b)\n",
        "\n",
        "#Coeficiente de curtose de pearson\n",
        "curtose_b = kurtosis(b)\n",
        "cbind(assimetria_b,curtose_b)"
      ],
      "metadata": {
        "colab": {
          "base_uri": "https://localhost:8080/",
          "height": 98
        },
        "id": "2p5XeXXCaYWl",
        "outputId": "b15979c1-a6cd-40ce-dbce-21b536d843ad"
      },
      "execution_count": 56,
      "outputs": [
        {
          "output_type": "display_data",
          "data": {
            "text/plain": [
              "     assimetria_b curtose_b\n",
              "[1,] 1.116122     -0.416036"
            ],
            "text/latex": "A matrix: 1 × 2 of type dbl\n\\begin{tabular}{ll}\n assimetria\\_b & curtose\\_b\\\\\n\\hline\n\t 1.116122 & -0.416036\\\\\n\\end{tabular}\n",
            "text/markdown": "\nA matrix: 1 × 2 of type dbl\n\n| assimetria_b | curtose_b |\n|---|---|\n| 1.116122 | -0.416036 |\n\n",
            "text/html": [
              "<table class=\"dataframe\">\n",
              "<caption>A matrix: 1 × 2 of type dbl</caption>\n",
              "<thead>\n",
              "\t<tr><th scope=col>assimetria_b</th><th scope=col>curtose_b</th></tr>\n",
              "</thead>\n",
              "<tbody>\n",
              "\t<tr><td>1.116122</td><td>-0.416036</td></tr>\n",
              "</tbody>\n",
              "</table>\n"
            ]
          },
          "metadata": {}
        }
      ]
    },
    {
      "cell_type": "code",
      "source": [
        "# Consolidando as Estatísticas resumo\n",
        "dados_b_consolidados = data.frame(\n",
        "  \"moda\" = moda_b,\n",
        "  \"mediana\" = mediana_b,\n",
        "  \"media\" = media_b,\n",
        "  \"assimetria\" = assimetria_b,\n",
        "  \"curtose\" = curtose_b\n",
        ")\n"
      ],
      "metadata": {
        "id": "9OmX6Dc2aYZD"
      },
      "execution_count": 57,
      "outputs": []
    },
    {
      "cell_type": "code",
      "source": [
        " #Amostra Empresa C\n",
        "c=c(2000,3000,4000,6000, 7000, 7000, 8000,  9000)"
      ],
      "metadata": {
        "id": "tgySEENPaYcA"
      },
      "execution_count": 58,
      "outputs": []
    },
    {
      "cell_type": "code",
      "source": [
        "# Média, mediana, moda e Resumos empresa C\n",
        "media_c = mean(c)\n",
        "mediana_c = median(c)\n",
        "\n",
        "moda_c = DescTools::Mode(c)\n",
        "cbind(media_c,mediana_c,moda_c)"
      ],
      "metadata": {
        "colab": {
          "base_uri": "https://localhost:8080/",
          "height": 98
        },
        "id": "RtnX2exMaYeH",
        "outputId": "0061571b-7026-408e-bbe2-7ed3d62e395f"
      },
      "execution_count": 59,
      "outputs": [
        {
          "output_type": "display_data",
          "data": {
            "text/plain": [
              "     media_c mediana_c moda_c\n",
              "[1,] 5750    6500      7000  "
            ],
            "text/latex": "A matrix: 1 × 3 of type dbl\n\\begin{tabular}{lll}\n media\\_c & mediana\\_c & moda\\_c\\\\\n\\hline\n\t 5750 & 6500 & 7000\\\\\n\\end{tabular}\n",
            "text/markdown": "\nA matrix: 1 × 3 of type dbl\n\n| media_c | mediana_c | moda_c |\n|---|---|---|\n| 5750 | 6500 | 7000 |\n\n",
            "text/html": [
              "<table class=\"dataframe\">\n",
              "<caption>A matrix: 1 × 3 of type dbl</caption>\n",
              "<thead>\n",
              "\t<tr><th scope=col>media_c</th><th scope=col>mediana_c</th><th scope=col>moda_c</th></tr>\n",
              "</thead>\n",
              "<tbody>\n",
              "\t<tr><td>5750</td><td>6500</td><td>7000</td></tr>\n",
              "</tbody>\n",
              "</table>\n"
            ]
          },
          "metadata": {}
        }
      ]
    },
    {
      "cell_type": "code",
      "source": [
        "# Resumos gerais empresa C\n",
        "summary(c)"
      ],
      "metadata": {
        "colab": {
          "base_uri": "https://localhost:8080/",
          "height": 54
        },
        "id": "hFjpjJ5QafL0",
        "outputId": "5610b820-9c79-4db9-ef84-3f9776f083c0"
      },
      "execution_count": 60,
      "outputs": [
        {
          "output_type": "display_data",
          "data": {
            "text/plain": [
              "   Min. 1st Qu.  Median    Mean 3rd Qu.    Max. \n",
              "   2000    3750    6500    5750    7250    9000 "
            ]
          },
          "metadata": {}
        }
      ]
    },
    {
      "cell_type": "code",
      "source": [
        "Hmisc::describe(c)"
      ],
      "metadata": {
        "colab": {
          "base_uri": "https://localhost:8080/",
          "height": 180
        },
        "id": "VGylWoXZLo28",
        "outputId": "7c8c091d-7a52-45b5-9b61-9305d1656080"
      },
      "execution_count": 61,
      "outputs": [
        {
          "output_type": "display_data",
          "data": {
            "text/plain": [
              "c \n",
              "       n  missing distinct     Info     Mean      Gmd \n",
              "       8        0        7    0.988     5750     3000 \n",
              "\n",
              "lowest : 2000 3000 4000 6000 7000, highest: 4000 6000 7000 8000 9000\n",
              "                                                    \n",
              "Value       2000  3000  4000  6000  7000  8000  9000\n",
              "Frequency      1     1     1     1     2     1     1\n",
              "Proportion 0.125 0.125 0.125 0.125 0.250 0.125 0.125"
            ]
          },
          "metadata": {}
        }
      ]
    },
    {
      "cell_type": "code",
      "source": [
        "# Comparando Graficamente\n",
        "#Divisão de janelas\n",
        "par(mfrow = c(2, 1))\n",
        "\n",
        "#Histograma com as frequências simples\n",
        "hist(c)\n",
        "\n",
        "#Histograma com as densidades\n",
        "hist(c, probability = T,)\n",
        "\n",
        "\n",
        "#Curva de densidade\n",
        "lines(density(c))"
      ],
      "metadata": {
        "colab": {
          "base_uri": "https://localhost:8080/",
          "height": 437
        },
        "id": "kSWYDPusafOl",
        "outputId": "272621e5-eae3-476a-ee4b-35c6c075d1ad"
      },
      "execution_count": 62,
      "outputs": [
        {
          "output_type": "display_data",
          "data": {
            "image/png": "[encoded data removed]",
            "text/plain": [
              "Plot with title “Histogram of c”"
            ]
          },
          "metadata": {
            "image/png": {
              "width": 420,
              "height": 420
            }
          }
        }
      ]
    },
    {
      "cell_type": "code",
      "source": [
        "# Assimetria e Curtose\n",
        "#Coeficiente de assimetria de pearson\n",
        "assimetria_c = skewness(c)\n",
        "\n",
        "#Coeficiente de curtose de pearson\n",
        "curtose_c = kurtosis(c)\n",
        "cbind(assimetria_c,curtose_c)"
      ],
      "metadata": {
        "colab": {
          "base_uri": "https://localhost:8080/",
          "height": 98
        },
        "id": "YNGIw9BaafRU",
        "outputId": "093a59c7-8d04-44a2-e691-c64ad6562d7e"
      },
      "execution_count": 63,
      "outputs": [
        {
          "output_type": "display_data",
          "data": {
            "text/plain": [
              "     assimetria_c curtose_c\n",
              "[1,] -0.2360201   -1.684509"
            ],
            "text/latex": "A matrix: 1 × 2 of type dbl\n\\begin{tabular}{ll}\n assimetria\\_c & curtose\\_c\\\\\n\\hline\n\t -0.2360201 & -1.684509\\\\\n\\end{tabular}\n",
            "text/markdown": "\nA matrix: 1 × 2 of type dbl\n\n| assimetria_c | curtose_c |\n|---|---|\n| -0.2360201 | -1.684509 |\n\n",
            "text/html": [
              "<table class=\"dataframe\">\n",
              "<caption>A matrix: 1 × 2 of type dbl</caption>\n",
              "<thead>\n",
              "\t<tr><th scope=col>assimetria_c</th><th scope=col>curtose_c</th></tr>\n",
              "</thead>\n",
              "<tbody>\n",
              "\t<tr><td>-0.2360201</td><td>-1.684509</td></tr>\n",
              "</tbody>\n",
              "</table>\n"
            ]
          },
          "metadata": {}
        }
      ]
    },
    {
      "cell_type": "code",
      "source": [
        "# Consolidando as Estatísticas resumo\n",
        "dados_c_consolidados = data.frame(\n",
        "  \"moda\" = moda_c,\n",
        "  \"mediana\" = mediana_c,\n",
        "  \"media\" = media_c,\n",
        "  \"assimetria\" = assimetria_c,\n",
        "  \"curtose\" = curtose_c\n",
        ")"
      ],
      "metadata": {
        "id": "sAyTUqZFafTr"
      },
      "execution_count": 64,
      "outputs": []
    },
    {
      "cell_type": "code",
      "source": [
        "# Dados empresa A (Ótica tidyverse)\n",
        "#Empresa A\n",
        "a.df = data.frame(a)\n",
        "\n",
        "a.df_resumo = a.df %>% summarise(\n",
        "  moda_a = Mode(a),\n",
        "  mediana_a = median(a),\n",
        "  media_a = mean(a),\n",
        "  assimetria_a = skewness(a),\n",
        "  curtose_a = kurtosis(a)\n",
        ")"
      ],
      "metadata": {
        "id": "9BXTBki_aneJ"
      },
      "execution_count": 66,
      "outputs": []
    },
    {
      "cell_type": "code",
      "source": [
        "# Dados empresa B (Ótica tidyverse)\n",
        "b.df = data.frame(b)\n",
        "\n",
        "#Empresa B\n",
        "b.df_resumo = b.df %>% summarise(\n",
        "  moda_b = Mode(b),\n",
        "  mediana_b = median(b),\n",
        "  media_b = mean(b),\n",
        "  assimetria_b = skewness(b),\n",
        "  curtose_b = kurtosis(b)\n",
        ")"
      ],
      "metadata": {
        "id": "rfPItqRGangz"
      },
      "execution_count": 67,
      "outputs": []
    },
    {
      "cell_type": "code",
      "source": [
        "# Dados empresa C (Ótica tidyverse)\n",
        "c.df = data.frame(c)\n",
        "c.df_resumo = c.df %>% summarise(\n",
        "  moda_c = Mode(c),\n",
        "  mediana_c = median(c),\n",
        "  media_c = mean(c),\n",
        "  assimetria_c = skewness(c),\n",
        "  curtose_c = kurtosis(c)\n",
        ")"
      ],
      "metadata": {
        "id": "SosgYXrVanjS"
      },
      "execution_count": 68,
      "outputs": []
    },
    {
      "cell_type": "code",
      "source": [
        "# Concatenando\n",
        "#Transpor para concatenar colunas\n",
        "consolidado_empresas=data.frame(t(a.df_resumo),t(b.df_resumo),t(c.df_resumo))\n",
        "\n",
        "#Mudando nomes de linhas e colunas\n",
        "colnames(consolidado_empresas)=c(\"resumo_empresa_a\",\"resumo_empresa_b\",\"resumo_empresa_c\")\n",
        "rownames(consolidado_empresas)=c(\"Moda\",\"Mediana\",\"Media\",\"Assimetria\",\"Curtose\")"
      ],
      "metadata": {
        "id": "1BXQmRTsaub8"
      },
      "execution_count": 69,
      "outputs": []
    },
    {
      "cell_type": "code",
      "source": [
        "# Exemplo JPMORGAN\n",
        "mediana_jpmorgan_exemplo=c(16,18,19,20,21,23,28,30,32,33,33,47)\n",
        "\n",
        "#Quantidade de elementos\n",
        "length(mediana_jpmorgan_exemplo)\n",
        "\n",
        "#média\n",
        "mean(mediana_jpmorgan_exemplo)\n",
        "\n",
        "#mediana\n",
        "median(mediana_jpmorgan_exemplo)"
      ],
      "metadata": {
        "colab": {
          "base_uri": "https://localhost:8080/",
          "height": 69
        },
        "id": "CMh7rzU2aueo",
        "outputId": "fae993af-bc3a-4271-fffa-137a9c26c414"
      },
      "execution_count": 70,
      "outputs": [
        {
          "output_type": "display_data",
          "data": {
            "text/plain": [
              "[1] 12"
            ],
            "text/latex": "12",
            "text/markdown": "12",
            "text/html": [
              "12"
            ]
          },
          "metadata": {}
        },
        {
          "output_type": "display_data",
          "data": {
            "text/plain": [
              "[1] 26.66667"
            ],
            "text/latex": "26.6666666666667",
            "text/markdown": "26.6666666666667",
            "text/html": [
              "26.6666666666667"
            ]
          },
          "metadata": {}
        },
        {
          "output_type": "display_data",
          "data": {
            "text/plain": [
              "[1] 25.5"
            ],
            "text/latex": "25.5",
            "text/markdown": "25.5",
            "text/html": [
              "25.5"
            ]
          },
          "metadata": {}
        }
      ]
    }
  ]
}